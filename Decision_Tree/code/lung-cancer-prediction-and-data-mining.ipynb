{
 "cells": [
  {
   "cell_type": "code",
   "execution_count": 1,
   "id": "b452dd22",
   "metadata": {
    "_cell_guid": "b1076dfc-b9ad-4769-8c92-a6c4dae69d19",
    "_uuid": "8f2839f25d086af736a60e9eeb907d3b93b6e0e5",
    "execution": {
     "iopub.execute_input": "2023-01-09T16:20:24.887293Z",
     "iopub.status.busy": "2023-01-09T16:20:24.886725Z",
     "iopub.status.idle": "2023-01-09T16:20:27.381426Z",
     "shell.execute_reply": "2023-01-09T16:20:27.380018Z"
    },
    "papermill": {
     "duration": 2.514195,
     "end_time": "2023-01-09T16:20:27.384699",
     "exception": false,
     "start_time": "2023-01-09T16:20:24.870504",
     "status": "completed"
    },
    "tags": []
   },
   "outputs": [],
   "source": [
    "# Importing Necessary Libraries and Functions\n",
    "\n",
    "import matplotlib.pyplot as plt\n",
    "import seaborn as sns\n",
    "import pandas as pd\n",
    "import numpy as np\n",
    "\n",
    "from sklearn.model_selection import train_test_split\n",
    "from sklearn.linear_model import LogisticRegression\n",
    "from sklearn.tree import DecisionTreeClassifier\n",
    "from sklearn.naive_bayes import GaussianNB\n",
    "from sklearn.metrics import confusion_matrix\n",
    "from sklearn.metrics import classification_report\n",
    "from sklearn.preprocessing import StandardScaler\n",
    "from sklearn.neighbors import KNeighborsClassifier\n",
    "from sklearn.cluster import DBSCAN\n",
    "from sklearn.preprocessing import LabelEncoder\n",
    "from mlxtend.frequent_patterns import apriori\n",
    "from mlxtend.frequent_patterns import association_rules\n",
    "\n",
    "%config InlineBackend.figure_format = 'retina'"
   ]
  },
  {
   "attachments": {},
   "cell_type": "markdown",
   "id": "0de1c097",
   "metadata": {
    "papermill": {
     "duration": 0.014193,
     "end_time": "2023-01-09T16:20:27.411447",
     "exception": false,
     "start_time": "2023-01-09T16:20:27.397254",
     "status": "completed"
    },
    "tags": []
   },
   "source": [
    "# **Reading The .csv File**"
   ]
  },
  {
   "cell_type": "code",
   "execution_count": 2,
   "id": "99e0e516",
   "metadata": {
    "execution": {
     "iopub.execute_input": "2023-01-09T16:20:27.438046Z",
     "iopub.status.busy": "2023-01-09T16:20:27.437553Z",
     "iopub.status.idle": "2023-01-09T16:20:27.520829Z",
     "shell.execute_reply": "2023-01-09T16:20:27.519269Z"
    },
    "papermill": {
     "duration": 0.10085,
     "end_time": "2023-01-09T16:20:27.524701",
     "exception": false,
     "start_time": "2023-01-09T16:20:27.423851",
     "status": "completed"
    },
    "tags": []
   },
   "outputs": [
    {
     "name": "stdout",
     "output_type": "stream",
     "text": [
      "\n",
      "\n"
     ]
    },
    {
     "data": {
      "text/html": [
       "<div>\n",
       "<style scoped>\n",
       "    .dataframe tbody tr th:only-of-type {\n",
       "        vertical-align: middle;\n",
       "    }\n",
       "\n",
       "    .dataframe tbody tr th {\n",
       "        vertical-align: top;\n",
       "    }\n",
       "\n",
       "    .dataframe thead th {\n",
       "        text-align: right;\n",
       "    }\n",
       "</style>\n",
       "<table border=\"1\" class=\"dataframe\">\n",
       "  <thead>\n",
       "    <tr style=\"text-align: right;\">\n",
       "      <th></th>\n",
       "      <th>Patient Id</th>\n",
       "      <th>Age</th>\n",
       "      <th>Gender</th>\n",
       "      <th>Air Pollution</th>\n",
       "      <th>Alcohol use</th>\n",
       "      <th>Dust Allergy</th>\n",
       "      <th>OccuPational Hazards</th>\n",
       "      <th>Genetic Risk</th>\n",
       "      <th>chronic Lung Disease</th>\n",
       "      <th>Balanced Diet</th>\n",
       "      <th>...</th>\n",
       "      <th>Fatigue</th>\n",
       "      <th>Weight Loss</th>\n",
       "      <th>Shortness of Breath</th>\n",
       "      <th>Wheezing</th>\n",
       "      <th>Swallowing Difficulty</th>\n",
       "      <th>Clubbing of Finger Nails</th>\n",
       "      <th>Frequent Cold</th>\n",
       "      <th>Dry Cough</th>\n",
       "      <th>Snoring</th>\n",
       "      <th>Level</th>\n",
       "    </tr>\n",
       "    <tr>\n",
       "      <th>index</th>\n",
       "      <th></th>\n",
       "      <th></th>\n",
       "      <th></th>\n",
       "      <th></th>\n",
       "      <th></th>\n",
       "      <th></th>\n",
       "      <th></th>\n",
       "      <th></th>\n",
       "      <th></th>\n",
       "      <th></th>\n",
       "      <th></th>\n",
       "      <th></th>\n",
       "      <th></th>\n",
       "      <th></th>\n",
       "      <th></th>\n",
       "      <th></th>\n",
       "      <th></th>\n",
       "      <th></th>\n",
       "      <th></th>\n",
       "      <th></th>\n",
       "      <th></th>\n",
       "    </tr>\n",
       "  </thead>\n",
       "  <tbody>\n",
       "    <tr>\n",
       "      <th>0</th>\n",
       "      <td>P1</td>\n",
       "      <td>33</td>\n",
       "      <td>1</td>\n",
       "      <td>2</td>\n",
       "      <td>4</td>\n",
       "      <td>5</td>\n",
       "      <td>4</td>\n",
       "      <td>3</td>\n",
       "      <td>2</td>\n",
       "      <td>2</td>\n",
       "      <td>...</td>\n",
       "      <td>3</td>\n",
       "      <td>4</td>\n",
       "      <td>2</td>\n",
       "      <td>2</td>\n",
       "      <td>3</td>\n",
       "      <td>1</td>\n",
       "      <td>2</td>\n",
       "      <td>3</td>\n",
       "      <td>4</td>\n",
       "      <td>Low</td>\n",
       "    </tr>\n",
       "    <tr>\n",
       "      <th>1</th>\n",
       "      <td>P10</td>\n",
       "      <td>17</td>\n",
       "      <td>1</td>\n",
       "      <td>3</td>\n",
       "      <td>1</td>\n",
       "      <td>5</td>\n",
       "      <td>3</td>\n",
       "      <td>4</td>\n",
       "      <td>2</td>\n",
       "      <td>2</td>\n",
       "      <td>...</td>\n",
       "      <td>1</td>\n",
       "      <td>3</td>\n",
       "      <td>7</td>\n",
       "      <td>8</td>\n",
       "      <td>6</td>\n",
       "      <td>2</td>\n",
       "      <td>1</td>\n",
       "      <td>7</td>\n",
       "      <td>2</td>\n",
       "      <td>Medium</td>\n",
       "    </tr>\n",
       "    <tr>\n",
       "      <th>2</th>\n",
       "      <td>P100</td>\n",
       "      <td>35</td>\n",
       "      <td>1</td>\n",
       "      <td>4</td>\n",
       "      <td>5</td>\n",
       "      <td>6</td>\n",
       "      <td>5</td>\n",
       "      <td>5</td>\n",
       "      <td>4</td>\n",
       "      <td>6</td>\n",
       "      <td>...</td>\n",
       "      <td>8</td>\n",
       "      <td>7</td>\n",
       "      <td>9</td>\n",
       "      <td>2</td>\n",
       "      <td>1</td>\n",
       "      <td>4</td>\n",
       "      <td>6</td>\n",
       "      <td>7</td>\n",
       "      <td>2</td>\n",
       "      <td>High</td>\n",
       "    </tr>\n",
       "    <tr>\n",
       "      <th>3</th>\n",
       "      <td>P1000</td>\n",
       "      <td>37</td>\n",
       "      <td>1</td>\n",
       "      <td>7</td>\n",
       "      <td>7</td>\n",
       "      <td>7</td>\n",
       "      <td>7</td>\n",
       "      <td>6</td>\n",
       "      <td>7</td>\n",
       "      <td>7</td>\n",
       "      <td>...</td>\n",
       "      <td>4</td>\n",
       "      <td>2</td>\n",
       "      <td>3</td>\n",
       "      <td>1</td>\n",
       "      <td>4</td>\n",
       "      <td>5</td>\n",
       "      <td>6</td>\n",
       "      <td>7</td>\n",
       "      <td>5</td>\n",
       "      <td>High</td>\n",
       "    </tr>\n",
       "    <tr>\n",
       "      <th>4</th>\n",
       "      <td>P101</td>\n",
       "      <td>46</td>\n",
       "      <td>1</td>\n",
       "      <td>6</td>\n",
       "      <td>8</td>\n",
       "      <td>7</td>\n",
       "      <td>7</td>\n",
       "      <td>7</td>\n",
       "      <td>6</td>\n",
       "      <td>7</td>\n",
       "      <td>...</td>\n",
       "      <td>3</td>\n",
       "      <td>2</td>\n",
       "      <td>4</td>\n",
       "      <td>1</td>\n",
       "      <td>4</td>\n",
       "      <td>2</td>\n",
       "      <td>4</td>\n",
       "      <td>2</td>\n",
       "      <td>3</td>\n",
       "      <td>High</td>\n",
       "    </tr>\n",
       "    <tr>\n",
       "      <th>...</th>\n",
       "      <td>...</td>\n",
       "      <td>...</td>\n",
       "      <td>...</td>\n",
       "      <td>...</td>\n",
       "      <td>...</td>\n",
       "      <td>...</td>\n",
       "      <td>...</td>\n",
       "      <td>...</td>\n",
       "      <td>...</td>\n",
       "      <td>...</td>\n",
       "      <td>...</td>\n",
       "      <td>...</td>\n",
       "      <td>...</td>\n",
       "      <td>...</td>\n",
       "      <td>...</td>\n",
       "      <td>...</td>\n",
       "      <td>...</td>\n",
       "      <td>...</td>\n",
       "      <td>...</td>\n",
       "      <td>...</td>\n",
       "      <td>...</td>\n",
       "    </tr>\n",
       "    <tr>\n",
       "      <th>1996</th>\n",
       "      <td>P1996</td>\n",
       "      <td>44</td>\n",
       "      <td>1</td>\n",
       "      <td>6</td>\n",
       "      <td>7</td>\n",
       "      <td>7</td>\n",
       "      <td>7</td>\n",
       "      <td>7</td>\n",
       "      <td>6</td>\n",
       "      <td>7</td>\n",
       "      <td>...</td>\n",
       "      <td>5</td>\n",
       "      <td>3</td>\n",
       "      <td>2</td>\n",
       "      <td>7</td>\n",
       "      <td>8</td>\n",
       "      <td>2</td>\n",
       "      <td>4</td>\n",
       "      <td>5</td>\n",
       "      <td>3</td>\n",
       "      <td>High</td>\n",
       "    </tr>\n",
       "    <tr>\n",
       "      <th>1997</th>\n",
       "      <td>P1997</td>\n",
       "      <td>37</td>\n",
       "      <td>2</td>\n",
       "      <td>6</td>\n",
       "      <td>8</td>\n",
       "      <td>7</td>\n",
       "      <td>7</td>\n",
       "      <td>7</td>\n",
       "      <td>6</td>\n",
       "      <td>7</td>\n",
       "      <td>...</td>\n",
       "      <td>9</td>\n",
       "      <td>6</td>\n",
       "      <td>5</td>\n",
       "      <td>7</td>\n",
       "      <td>2</td>\n",
       "      <td>4</td>\n",
       "      <td>3</td>\n",
       "      <td>1</td>\n",
       "      <td>4</td>\n",
       "      <td>High</td>\n",
       "    </tr>\n",
       "    <tr>\n",
       "      <th>1998</th>\n",
       "      <td>P1998</td>\n",
       "      <td>25</td>\n",
       "      <td>2</td>\n",
       "      <td>4</td>\n",
       "      <td>5</td>\n",
       "      <td>6</td>\n",
       "      <td>5</td>\n",
       "      <td>5</td>\n",
       "      <td>4</td>\n",
       "      <td>6</td>\n",
       "      <td>...</td>\n",
       "      <td>8</td>\n",
       "      <td>7</td>\n",
       "      <td>9</td>\n",
       "      <td>2</td>\n",
       "      <td>1</td>\n",
       "      <td>4</td>\n",
       "      <td>6</td>\n",
       "      <td>7</td>\n",
       "      <td>2</td>\n",
       "      <td>High</td>\n",
       "    </tr>\n",
       "    <tr>\n",
       "      <th>1999</th>\n",
       "      <td>P1999</td>\n",
       "      <td>18</td>\n",
       "      <td>2</td>\n",
       "      <td>6</td>\n",
       "      <td>8</td>\n",
       "      <td>7</td>\n",
       "      <td>7</td>\n",
       "      <td>7</td>\n",
       "      <td>6</td>\n",
       "      <td>7</td>\n",
       "      <td>...</td>\n",
       "      <td>3</td>\n",
       "      <td>2</td>\n",
       "      <td>4</td>\n",
       "      <td>1</td>\n",
       "      <td>4</td>\n",
       "      <td>2</td>\n",
       "      <td>4</td>\n",
       "      <td>2</td>\n",
       "      <td>3</td>\n",
       "      <td>High</td>\n",
       "    </tr>\n",
       "    <tr>\n",
       "      <th>2000</th>\n",
       "      <td>P2000</td>\n",
       "      <td>47</td>\n",
       "      <td>1</td>\n",
       "      <td>6</td>\n",
       "      <td>5</td>\n",
       "      <td>6</td>\n",
       "      <td>5</td>\n",
       "      <td>5</td>\n",
       "      <td>4</td>\n",
       "      <td>6</td>\n",
       "      <td>...</td>\n",
       "      <td>8</td>\n",
       "      <td>7</td>\n",
       "      <td>9</td>\n",
       "      <td>2</td>\n",
       "      <td>1</td>\n",
       "      <td>4</td>\n",
       "      <td>6</td>\n",
       "      <td>7</td>\n",
       "      <td>2</td>\n",
       "      <td>High</td>\n",
       "    </tr>\n",
       "  </tbody>\n",
       "</table>\n",
       "<p>2001 rows × 25 columns</p>\n",
       "</div>"
      ],
      "text/plain": [
       "      Patient Id  Age  Gender  Air Pollution  Alcohol use  Dust Allergy  \\\n",
       "index                                                                     \n",
       "0             P1   33       1              2            4             5   \n",
       "1            P10   17       1              3            1             5   \n",
       "2           P100   35       1              4            5             6   \n",
       "3          P1000   37       1              7            7             7   \n",
       "4           P101   46       1              6            8             7   \n",
       "...          ...  ...     ...            ...          ...           ...   \n",
       "1996       P1996   44       1              6            7             7   \n",
       "1997       P1997   37       2              6            8             7   \n",
       "1998       P1998   25       2              4            5             6   \n",
       "1999       P1999   18       2              6            8             7   \n",
       "2000       P2000   47       1              6            5             6   \n",
       "\n",
       "       OccuPational Hazards  Genetic Risk  chronic Lung Disease  \\\n",
       "index                                                             \n",
       "0                         4             3                     2   \n",
       "1                         3             4                     2   \n",
       "2                         5             5                     4   \n",
       "3                         7             6                     7   \n",
       "4                         7             7                     6   \n",
       "...                     ...           ...                   ...   \n",
       "1996                      7             7                     6   \n",
       "1997                      7             7                     6   \n",
       "1998                      5             5                     4   \n",
       "1999                      7             7                     6   \n",
       "2000                      5             5                     4   \n",
       "\n",
       "       Balanced Diet  ...  Fatigue  Weight Loss  Shortness of Breath  \\\n",
       "index                 ...                                              \n",
       "0                  2  ...        3            4                    2   \n",
       "1                  2  ...        1            3                    7   \n",
       "2                  6  ...        8            7                    9   \n",
       "3                  7  ...        4            2                    3   \n",
       "4                  7  ...        3            2                    4   \n",
       "...              ...  ...      ...          ...                  ...   \n",
       "1996               7  ...        5            3                    2   \n",
       "1997               7  ...        9            6                    5   \n",
       "1998               6  ...        8            7                    9   \n",
       "1999               7  ...        3            2                    4   \n",
       "2000               6  ...        8            7                    9   \n",
       "\n",
       "       Wheezing  Swallowing Difficulty  Clubbing of Finger Nails  \\\n",
       "index                                                              \n",
       "0             2                      3                         1   \n",
       "1             8                      6                         2   \n",
       "2             2                      1                         4   \n",
       "3             1                      4                         5   \n",
       "4             1                      4                         2   \n",
       "...         ...                    ...                       ...   \n",
       "1996          7                      8                         2   \n",
       "1997          7                      2                         4   \n",
       "1998          2                      1                         4   \n",
       "1999          1                      4                         2   \n",
       "2000          2                      1                         4   \n",
       "\n",
       "       Frequent Cold  Dry Cough  Snoring   Level  \n",
       "index                                             \n",
       "0                  2          3        4     Low  \n",
       "1                  1          7        2  Medium  \n",
       "2                  6          7        2    High  \n",
       "3                  6          7        5    High  \n",
       "4                  4          2        3    High  \n",
       "...              ...        ...      ...     ...  \n",
       "1996               4          5        3    High  \n",
       "1997               3          1        4    High  \n",
       "1998               6          7        2    High  \n",
       "1999               4          2        3    High  \n",
       "2000               6          7        2    High  \n",
       "\n",
       "[2001 rows x 25 columns]"
      ]
     },
     "metadata": {},
     "output_type": "display_data"
    },
    {
     "name": "stdout",
     "output_type": "stream",
     "text": [
      "\n",
      "\n"
     ]
    }
   ],
   "source": [
    "# Read csv File\n",
    "print('\\n')\n",
    "df = pd.read_csv(\"cancer patient data sets.csv\", index_col='index')\n",
    "\n",
    "# Display Data\n",
    "display(df)\n",
    "print('\\n')"
   ]
  },
  {
   "attachments": {},
   "cell_type": "markdown",
   "id": "85ab441d",
   "metadata": {
    "papermill": {
     "duration": 0.012773,
     "end_time": "2023-01-09T16:20:27.550854",
     "exception": false,
     "start_time": "2023-01-09T16:20:27.538081",
     "status": "completed"
    },
    "tags": []
   },
   "source": [
    "# **Dropping and Cleaning Data**"
   ]
  },
  {
   "cell_type": "code",
   "execution_count": 3,
   "id": "6fb121d7",
   "metadata": {
    "execution": {
     "iopub.execute_input": "2023-01-09T16:20:27.579062Z",
     "iopub.status.busy": "2023-01-09T16:20:27.578598Z",
     "iopub.status.idle": "2023-01-09T16:20:27.609113Z",
     "shell.execute_reply": "2023-01-09T16:20:27.607759Z"
    },
    "papermill": {
     "duration": 0.048303,
     "end_time": "2023-01-09T16:20:27.612141",
     "exception": false,
     "start_time": "2023-01-09T16:20:27.563838",
     "status": "completed"
    },
    "tags": []
   },
   "outputs": [
    {
     "name": "stdout",
     "output_type": "stream",
     "text": [
      "\n",
      "\n"
     ]
    },
    {
     "data": {
      "text/html": [
       "<div>\n",
       "<style scoped>\n",
       "    .dataframe tbody tr th:only-of-type {\n",
       "        vertical-align: middle;\n",
       "    }\n",
       "\n",
       "    .dataframe tbody tr th {\n",
       "        vertical-align: top;\n",
       "    }\n",
       "\n",
       "    .dataframe thead th {\n",
       "        text-align: right;\n",
       "    }\n",
       "</style>\n",
       "<table border=\"1\" class=\"dataframe\">\n",
       "  <thead>\n",
       "    <tr style=\"text-align: right;\">\n",
       "      <th></th>\n",
       "      <th>age</th>\n",
       "      <th>gender</th>\n",
       "      <th>air_pollution</th>\n",
       "      <th>alcohol_use</th>\n",
       "      <th>dust_allergy</th>\n",
       "      <th>occupational_hazards</th>\n",
       "      <th>genetic_risk</th>\n",
       "      <th>chronic_lung_disease</th>\n",
       "      <th>balanced_diet</th>\n",
       "      <th>obesity</th>\n",
       "      <th>...</th>\n",
       "      <th>fatigue</th>\n",
       "      <th>weight_loss</th>\n",
       "      <th>shortness_of_breath</th>\n",
       "      <th>wheezing</th>\n",
       "      <th>swallowing_difficulty</th>\n",
       "      <th>clubbing_of_finger_nails</th>\n",
       "      <th>frequent_cold</th>\n",
       "      <th>dry_cough</th>\n",
       "      <th>snoring</th>\n",
       "      <th>level</th>\n",
       "    </tr>\n",
       "    <tr>\n",
       "      <th>index</th>\n",
       "      <th></th>\n",
       "      <th></th>\n",
       "      <th></th>\n",
       "      <th></th>\n",
       "      <th></th>\n",
       "      <th></th>\n",
       "      <th></th>\n",
       "      <th></th>\n",
       "      <th></th>\n",
       "      <th></th>\n",
       "      <th></th>\n",
       "      <th></th>\n",
       "      <th></th>\n",
       "      <th></th>\n",
       "      <th></th>\n",
       "      <th></th>\n",
       "      <th></th>\n",
       "      <th></th>\n",
       "      <th></th>\n",
       "      <th></th>\n",
       "      <th></th>\n",
       "    </tr>\n",
       "  </thead>\n",
       "  <tbody>\n",
       "    <tr>\n",
       "      <th>0</th>\n",
       "      <td>33</td>\n",
       "      <td>1</td>\n",
       "      <td>2</td>\n",
       "      <td>4</td>\n",
       "      <td>5</td>\n",
       "      <td>4</td>\n",
       "      <td>3</td>\n",
       "      <td>2</td>\n",
       "      <td>2</td>\n",
       "      <td>4</td>\n",
       "      <td>...</td>\n",
       "      <td>3</td>\n",
       "      <td>4</td>\n",
       "      <td>2</td>\n",
       "      <td>2</td>\n",
       "      <td>3</td>\n",
       "      <td>1</td>\n",
       "      <td>2</td>\n",
       "      <td>3</td>\n",
       "      <td>4</td>\n",
       "      <td>Low</td>\n",
       "    </tr>\n",
       "    <tr>\n",
       "      <th>1</th>\n",
       "      <td>17</td>\n",
       "      <td>1</td>\n",
       "      <td>3</td>\n",
       "      <td>1</td>\n",
       "      <td>5</td>\n",
       "      <td>3</td>\n",
       "      <td>4</td>\n",
       "      <td>2</td>\n",
       "      <td>2</td>\n",
       "      <td>2</td>\n",
       "      <td>...</td>\n",
       "      <td>1</td>\n",
       "      <td>3</td>\n",
       "      <td>7</td>\n",
       "      <td>8</td>\n",
       "      <td>6</td>\n",
       "      <td>2</td>\n",
       "      <td>1</td>\n",
       "      <td>7</td>\n",
       "      <td>2</td>\n",
       "      <td>Medium</td>\n",
       "    </tr>\n",
       "    <tr>\n",
       "      <th>2</th>\n",
       "      <td>35</td>\n",
       "      <td>1</td>\n",
       "      <td>4</td>\n",
       "      <td>5</td>\n",
       "      <td>6</td>\n",
       "      <td>5</td>\n",
       "      <td>5</td>\n",
       "      <td>4</td>\n",
       "      <td>6</td>\n",
       "      <td>7</td>\n",
       "      <td>...</td>\n",
       "      <td>8</td>\n",
       "      <td>7</td>\n",
       "      <td>9</td>\n",
       "      <td>2</td>\n",
       "      <td>1</td>\n",
       "      <td>4</td>\n",
       "      <td>6</td>\n",
       "      <td>7</td>\n",
       "      <td>2</td>\n",
       "      <td>High</td>\n",
       "    </tr>\n",
       "    <tr>\n",
       "      <th>3</th>\n",
       "      <td>37</td>\n",
       "      <td>1</td>\n",
       "      <td>7</td>\n",
       "      <td>7</td>\n",
       "      <td>7</td>\n",
       "      <td>7</td>\n",
       "      <td>6</td>\n",
       "      <td>7</td>\n",
       "      <td>7</td>\n",
       "      <td>7</td>\n",
       "      <td>...</td>\n",
       "      <td>4</td>\n",
       "      <td>2</td>\n",
       "      <td>3</td>\n",
       "      <td>1</td>\n",
       "      <td>4</td>\n",
       "      <td>5</td>\n",
       "      <td>6</td>\n",
       "      <td>7</td>\n",
       "      <td>5</td>\n",
       "      <td>High</td>\n",
       "    </tr>\n",
       "    <tr>\n",
       "      <th>4</th>\n",
       "      <td>46</td>\n",
       "      <td>1</td>\n",
       "      <td>6</td>\n",
       "      <td>8</td>\n",
       "      <td>7</td>\n",
       "      <td>7</td>\n",
       "      <td>7</td>\n",
       "      <td>6</td>\n",
       "      <td>7</td>\n",
       "      <td>7</td>\n",
       "      <td>...</td>\n",
       "      <td>3</td>\n",
       "      <td>2</td>\n",
       "      <td>4</td>\n",
       "      <td>1</td>\n",
       "      <td>4</td>\n",
       "      <td>2</td>\n",
       "      <td>4</td>\n",
       "      <td>2</td>\n",
       "      <td>3</td>\n",
       "      <td>High</td>\n",
       "    </tr>\n",
       "    <tr>\n",
       "      <th>...</th>\n",
       "      <td>...</td>\n",
       "      <td>...</td>\n",
       "      <td>...</td>\n",
       "      <td>...</td>\n",
       "      <td>...</td>\n",
       "      <td>...</td>\n",
       "      <td>...</td>\n",
       "      <td>...</td>\n",
       "      <td>...</td>\n",
       "      <td>...</td>\n",
       "      <td>...</td>\n",
       "      <td>...</td>\n",
       "      <td>...</td>\n",
       "      <td>...</td>\n",
       "      <td>...</td>\n",
       "      <td>...</td>\n",
       "      <td>...</td>\n",
       "      <td>...</td>\n",
       "      <td>...</td>\n",
       "      <td>...</td>\n",
       "      <td>...</td>\n",
       "    </tr>\n",
       "    <tr>\n",
       "      <th>1996</th>\n",
       "      <td>44</td>\n",
       "      <td>1</td>\n",
       "      <td>6</td>\n",
       "      <td>7</td>\n",
       "      <td>7</td>\n",
       "      <td>7</td>\n",
       "      <td>7</td>\n",
       "      <td>6</td>\n",
       "      <td>7</td>\n",
       "      <td>7</td>\n",
       "      <td>...</td>\n",
       "      <td>5</td>\n",
       "      <td>3</td>\n",
       "      <td>2</td>\n",
       "      <td>7</td>\n",
       "      <td>8</td>\n",
       "      <td>2</td>\n",
       "      <td>4</td>\n",
       "      <td>5</td>\n",
       "      <td>3</td>\n",
       "      <td>High</td>\n",
       "    </tr>\n",
       "    <tr>\n",
       "      <th>1997</th>\n",
       "      <td>37</td>\n",
       "      <td>2</td>\n",
       "      <td>6</td>\n",
       "      <td>8</td>\n",
       "      <td>7</td>\n",
       "      <td>7</td>\n",
       "      <td>7</td>\n",
       "      <td>6</td>\n",
       "      <td>7</td>\n",
       "      <td>7</td>\n",
       "      <td>...</td>\n",
       "      <td>9</td>\n",
       "      <td>6</td>\n",
       "      <td>5</td>\n",
       "      <td>7</td>\n",
       "      <td>2</td>\n",
       "      <td>4</td>\n",
       "      <td>3</td>\n",
       "      <td>1</td>\n",
       "      <td>4</td>\n",
       "      <td>High</td>\n",
       "    </tr>\n",
       "    <tr>\n",
       "      <th>1998</th>\n",
       "      <td>25</td>\n",
       "      <td>2</td>\n",
       "      <td>4</td>\n",
       "      <td>5</td>\n",
       "      <td>6</td>\n",
       "      <td>5</td>\n",
       "      <td>5</td>\n",
       "      <td>4</td>\n",
       "      <td>6</td>\n",
       "      <td>7</td>\n",
       "      <td>...</td>\n",
       "      <td>8</td>\n",
       "      <td>7</td>\n",
       "      <td>9</td>\n",
       "      <td>2</td>\n",
       "      <td>1</td>\n",
       "      <td>4</td>\n",
       "      <td>6</td>\n",
       "      <td>7</td>\n",
       "      <td>2</td>\n",
       "      <td>High</td>\n",
       "    </tr>\n",
       "    <tr>\n",
       "      <th>1999</th>\n",
       "      <td>18</td>\n",
       "      <td>2</td>\n",
       "      <td>6</td>\n",
       "      <td>8</td>\n",
       "      <td>7</td>\n",
       "      <td>7</td>\n",
       "      <td>7</td>\n",
       "      <td>6</td>\n",
       "      <td>7</td>\n",
       "      <td>7</td>\n",
       "      <td>...</td>\n",
       "      <td>3</td>\n",
       "      <td>2</td>\n",
       "      <td>4</td>\n",
       "      <td>1</td>\n",
       "      <td>4</td>\n",
       "      <td>2</td>\n",
       "      <td>4</td>\n",
       "      <td>2</td>\n",
       "      <td>3</td>\n",
       "      <td>High</td>\n",
       "    </tr>\n",
       "    <tr>\n",
       "      <th>2000</th>\n",
       "      <td>47</td>\n",
       "      <td>1</td>\n",
       "      <td>6</td>\n",
       "      <td>5</td>\n",
       "      <td>6</td>\n",
       "      <td>5</td>\n",
       "      <td>5</td>\n",
       "      <td>4</td>\n",
       "      <td>6</td>\n",
       "      <td>7</td>\n",
       "      <td>...</td>\n",
       "      <td>8</td>\n",
       "      <td>7</td>\n",
       "      <td>9</td>\n",
       "      <td>2</td>\n",
       "      <td>1</td>\n",
       "      <td>4</td>\n",
       "      <td>6</td>\n",
       "      <td>7</td>\n",
       "      <td>2</td>\n",
       "      <td>High</td>\n",
       "    </tr>\n",
       "  </tbody>\n",
       "</table>\n",
       "<p>2001 rows × 24 columns</p>\n",
       "</div>"
      ],
      "text/plain": [
       "       age  gender  air_pollution  alcohol_use  dust_allergy  \\\n",
       "index                                                          \n",
       "0       33       1              2            4             5   \n",
       "1       17       1              3            1             5   \n",
       "2       35       1              4            5             6   \n",
       "3       37       1              7            7             7   \n",
       "4       46       1              6            8             7   \n",
       "...    ...     ...            ...          ...           ...   \n",
       "1996    44       1              6            7             7   \n",
       "1997    37       2              6            8             7   \n",
       "1998    25       2              4            5             6   \n",
       "1999    18       2              6            8             7   \n",
       "2000    47       1              6            5             6   \n",
       "\n",
       "       occupational_hazards  genetic_risk  chronic_lung_disease  \\\n",
       "index                                                             \n",
       "0                         4             3                     2   \n",
       "1                         3             4                     2   \n",
       "2                         5             5                     4   \n",
       "3                         7             6                     7   \n",
       "4                         7             7                     6   \n",
       "...                     ...           ...                   ...   \n",
       "1996                      7             7                     6   \n",
       "1997                      7             7                     6   \n",
       "1998                      5             5                     4   \n",
       "1999                      7             7                     6   \n",
       "2000                      5             5                     4   \n",
       "\n",
       "       balanced_diet  obesity  ...  fatigue  weight_loss  shortness_of_breath  \\\n",
       "index                          ...                                              \n",
       "0                  2        4  ...        3            4                    2   \n",
       "1                  2        2  ...        1            3                    7   \n",
       "2                  6        7  ...        8            7                    9   \n",
       "3                  7        7  ...        4            2                    3   \n",
       "4                  7        7  ...        3            2                    4   \n",
       "...              ...      ...  ...      ...          ...                  ...   \n",
       "1996               7        7  ...        5            3                    2   \n",
       "1997               7        7  ...        9            6                    5   \n",
       "1998               6        7  ...        8            7                    9   \n",
       "1999               7        7  ...        3            2                    4   \n",
       "2000               6        7  ...        8            7                    9   \n",
       "\n",
       "       wheezing  swallowing_difficulty  clubbing_of_finger_nails  \\\n",
       "index                                                              \n",
       "0             2                      3                         1   \n",
       "1             8                      6                         2   \n",
       "2             2                      1                         4   \n",
       "3             1                      4                         5   \n",
       "4             1                      4                         2   \n",
       "...         ...                    ...                       ...   \n",
       "1996          7                      8                         2   \n",
       "1997          7                      2                         4   \n",
       "1998          2                      1                         4   \n",
       "1999          1                      4                         2   \n",
       "2000          2                      1                         4   \n",
       "\n",
       "       frequent_cold  dry_cough  snoring   level  \n",
       "index                                             \n",
       "0                  2          3        4     Low  \n",
       "1                  1          7        2  Medium  \n",
       "2                  6          7        2    High  \n",
       "3                  6          7        5    High  \n",
       "4                  4          2        3    High  \n",
       "...              ...        ...      ...     ...  \n",
       "1996               4          5        3    High  \n",
       "1997               3          1        4    High  \n",
       "1998               6          7        2    High  \n",
       "1999               4          2        3    High  \n",
       "2000               6          7        2    High  \n",
       "\n",
       "[2001 rows x 24 columns]"
      ]
     },
     "metadata": {},
     "output_type": "display_data"
    },
    {
     "name": "stdout",
     "output_type": "stream",
     "text": [
      "\n",
      "\n"
     ]
    }
   ],
   "source": [
    "# Index Column now refers to patient\n",
    "\n",
    "print('\\n')\n",
    "df.drop(\"Patient Id\", axis=1, inplace=True)\n",
    "\n",
    "# Cleaning Column Names\n",
    "df.rename(columns=str.lower, inplace=True)\n",
    "df.rename(columns={col: col.replace(\" \", \"_\") for col in df.columns}, inplace=True)\n",
    "\n",
    "# Display Data After Cleaning\n",
    "display(df)\n",
    "print('\\n')"
   ]
  },
  {
   "attachments": {},
   "cell_type": "markdown",
   "id": "7781649f",
   "metadata": {
    "papermill": {
     "duration": 0.013307,
     "end_time": "2023-01-09T16:20:27.639542",
     "exception": false,
     "start_time": "2023-01-09T16:20:27.626235",
     "status": "completed"
    },
    "tags": []
   },
   "source": [
    "# **Check for Null Values**"
   ]
  },
  {
   "cell_type": "code",
   "execution_count": 4,
   "id": "c310ff2b",
   "metadata": {
    "execution": {
     "iopub.execute_input": "2023-01-09T16:20:27.669021Z",
     "iopub.status.busy": "2023-01-09T16:20:27.668551Z",
     "iopub.status.idle": "2023-01-09T16:20:27.680543Z",
     "shell.execute_reply": "2023-01-09T16:20:27.679198Z"
    },
    "papermill": {
     "duration": 0.029857,
     "end_time": "2023-01-09T16:20:27.683207",
     "exception": false,
     "start_time": "2023-01-09T16:20:27.653350",
     "status": "completed"
    },
    "tags": []
   },
   "outputs": [
    {
     "name": "stdout",
     "output_type": "stream",
     "text": [
      "\n",
      "\n"
     ]
    },
    {
     "data": {
      "text/plain": [
       "age                         0\n",
       "gender                      0\n",
       "air_pollution               0\n",
       "alcohol_use                 0\n",
       "dust_allergy                0\n",
       "occupational_hazards        0\n",
       "genetic_risk                0\n",
       "chronic_lung_disease        0\n",
       "balanced_diet               0\n",
       "obesity                     0\n",
       "smoking                     0\n",
       "passive_smoker              0\n",
       "chest_pain                  0\n",
       "coughing_of_blood           0\n",
       "fatigue                     0\n",
       "weight_loss                 0\n",
       "shortness_of_breath         0\n",
       "wheezing                    0\n",
       "swallowing_difficulty       0\n",
       "clubbing_of_finger_nails    0\n",
       "frequent_cold               0\n",
       "dry_cough                   0\n",
       "snoring                     0\n",
       "level                       0\n",
       "dtype: int64"
      ]
     },
     "execution_count": 4,
     "metadata": {},
     "output_type": "execute_result"
    }
   ],
   "source": [
    "# Check For Null Values\n",
    "\n",
    "print('\\n')\n",
    "df.isnull().sum()"
   ]
  },
  {
   "attachments": {},
   "cell_type": "markdown",
   "id": "22cf1414",
   "metadata": {
    "papermill": {
     "duration": 0.013479,
     "end_time": "2023-01-09T16:20:27.710608",
     "exception": false,
     "start_time": "2023-01-09T16:20:27.697129",
     "status": "completed"
    },
    "tags": []
   },
   "source": [
    "# **Print Information**"
   ]
  },
  {
   "cell_type": "code",
   "execution_count": 5,
   "id": "c5f7b909",
   "metadata": {
    "execution": {
     "iopub.execute_input": "2023-01-09T16:20:27.740601Z",
     "iopub.status.busy": "2023-01-09T16:20:27.740116Z",
     "iopub.status.idle": "2023-01-09T16:20:27.760361Z",
     "shell.execute_reply": "2023-01-09T16:20:27.759242Z"
    },
    "papermill": {
     "duration": 0.038313,
     "end_time": "2023-01-09T16:20:27.762976",
     "exception": false,
     "start_time": "2023-01-09T16:20:27.724663",
     "status": "completed"
    },
    "tags": []
   },
   "outputs": [
    {
     "name": "stdout",
     "output_type": "stream",
     "text": [
      "\n",
      "\n",
      "<class 'pandas.core.frame.DataFrame'>\n",
      "Int64Index: 2001 entries, 0 to 2000\n",
      "Data columns (total 24 columns):\n",
      " #   Column                    Non-Null Count  Dtype \n",
      "---  ------                    --------------  ----- \n",
      " 0   age                       2001 non-null   int64 \n",
      " 1   gender                    2001 non-null   int64 \n",
      " 2   air_pollution             2001 non-null   int64 \n",
      " 3   alcohol_use               2001 non-null   int64 \n",
      " 4   dust_allergy              2001 non-null   int64 \n",
      " 5   occupational_hazards      2001 non-null   int64 \n",
      " 6   genetic_risk              2001 non-null   int64 \n",
      " 7   chronic_lung_disease      2001 non-null   int64 \n",
      " 8   balanced_diet             2001 non-null   int64 \n",
      " 9   obesity                   2001 non-null   int64 \n",
      " 10  smoking                   2001 non-null   int64 \n",
      " 11  passive_smoker            2001 non-null   int64 \n",
      " 12  chest_pain                2001 non-null   int64 \n",
      " 13  coughing_of_blood         2001 non-null   int64 \n",
      " 14  fatigue                   2001 non-null   int64 \n",
      " 15  weight_loss               2001 non-null   int64 \n",
      " 16  shortness_of_breath       2001 non-null   int64 \n",
      " 17  wheezing                  2001 non-null   int64 \n",
      " 18  swallowing_difficulty     2001 non-null   int64 \n",
      " 19  clubbing_of_finger_nails  2001 non-null   int64 \n",
      " 20  frequent_cold             2001 non-null   int64 \n",
      " 21  dry_cough                 2001 non-null   int64 \n",
      " 22  snoring                   2001 non-null   int64 \n",
      " 23  level                     2001 non-null   object\n",
      "dtypes: int64(23), object(1)\n",
      "memory usage: 390.8+ KB\n",
      "None\n",
      "\n",
      "\n"
     ]
    }
   ],
   "source": [
    "# Print Information\n",
    "\n",
    "print('\\n')\n",
    "print(df.info())\n",
    "print('\\n')"
   ]
  },
  {
   "attachments": {},
   "cell_type": "markdown",
   "id": "2c134d17",
   "metadata": {
    "papermill": {
     "duration": 0.014524,
     "end_time": "2023-01-09T16:20:27.791881",
     "exception": false,
     "start_time": "2023-01-09T16:20:27.777357",
     "status": "completed"
    },
    "tags": []
   },
   "source": [
    "# **Replace \"level\" with Integer**"
   ]
  },
  {
   "cell_type": "code",
   "execution_count": 6,
   "id": "4f9e0340",
   "metadata": {
    "execution": {
     "iopub.execute_input": "2023-01-09T16:20:27.822936Z",
     "iopub.status.busy": "2023-01-09T16:20:27.822441Z",
     "iopub.status.idle": "2023-01-09T16:20:27.835196Z",
     "shell.execute_reply": "2023-01-09T16:20:27.833803Z"
    },
    "papermill": {
     "duration": 0.031534,
     "end_time": "2023-01-09T16:20:27.838133",
     "exception": false,
     "start_time": "2023-01-09T16:20:27.806599",
     "status": "completed"
    },
    "tags": []
   },
   "outputs": [
    {
     "name": "stdout",
     "output_type": "stream",
     "text": [
      "\n",
      "\n",
      "Cancer Levels:  ['Low' 'Medium' 'High']\n",
      "Cancer Levels:  [0 1 2]\n",
      "\n",
      "Columns in dataframe: \n",
      " Index(['age', 'gender', 'air_pollution', 'alcohol_use', 'dust_allergy',\n",
      "       'occupational_hazards', 'genetic_risk', 'chronic_lung_disease',\n",
      "       'balanced_diet', 'obesity', 'smoking', 'passive_smoker', 'chest_pain',\n",
      "       'coughing_of_blood', 'fatigue', 'weight_loss', 'shortness_of_breath',\n",
      "       'wheezing', 'swallowing_difficulty', 'clubbing_of_finger_nails',\n",
      "       'frequent_cold', 'dry_cough', 'snoring', 'level'],\n",
      "      dtype='object')\n",
      "\n",
      "\n"
     ]
    }
   ],
   "source": [
    "# Replace \"level\" with Integer\n",
    "\n",
    "print('\\n')\n",
    "print('Cancer Levels: ', df['level'].unique())\n",
    "\n",
    "# Replacing levels with int\n",
    "df[\"level\"].replace({'High': 2, 'Medium': 1, 'Low': 0}, inplace=True)\n",
    "print('Cancer Levels: ', df['level'].unique())\n",
    "\n",
    "print('\\nColumns in dataframe: \\n', df.columns)\n",
    "print('\\n')"
   ]
  },
  {
   "cell_type": "code",
   "execution_count": 7,
   "id": "b12f797d",
   "metadata": {
    "execution": {
     "iopub.execute_input": "2023-01-09T16:20:27.868726Z",
     "iopub.status.busy": "2023-01-09T16:20:27.868232Z",
     "iopub.status.idle": "2023-01-09T16:20:27.961873Z",
     "shell.execute_reply": "2023-01-09T16:20:27.960671Z"
    },
    "papermill": {
     "duration": 0.112083,
     "end_time": "2023-01-09T16:20:27.964533",
     "exception": false,
     "start_time": "2023-01-09T16:20:27.852450",
     "status": "completed"
    },
    "tags": []
   },
   "outputs": [
    {
     "name": "stdout",
     "output_type": "stream",
     "text": [
      "\n",
      "\n"
     ]
    },
    {
     "data": {
      "text/html": [
       "<div>\n",
       "<style scoped>\n",
       "    .dataframe tbody tr th:only-of-type {\n",
       "        vertical-align: middle;\n",
       "    }\n",
       "\n",
       "    .dataframe tbody tr th {\n",
       "        vertical-align: top;\n",
       "    }\n",
       "\n",
       "    .dataframe thead th {\n",
       "        text-align: right;\n",
       "    }\n",
       "</style>\n",
       "<table border=\"1\" class=\"dataframe\">\n",
       "  <thead>\n",
       "    <tr style=\"text-align: right;\">\n",
       "      <th></th>\n",
       "      <th>mean</th>\n",
       "      <th>std</th>\n",
       "      <th>min</th>\n",
       "      <th>25%</th>\n",
       "      <th>50%</th>\n",
       "      <th>75%</th>\n",
       "      <th>max</th>\n",
       "    </tr>\n",
       "  </thead>\n",
       "  <tbody>\n",
       "    <tr>\n",
       "      <th>age</th>\n",
       "      <td>37.2</td>\n",
       "      <td>12.0</td>\n",
       "      <td>14.0</td>\n",
       "      <td>28.0</td>\n",
       "      <td>36.0</td>\n",
       "      <td>45.0</td>\n",
       "      <td>73.0</td>\n",
       "    </tr>\n",
       "    <tr>\n",
       "      <th>gender</th>\n",
       "      <td>1.4</td>\n",
       "      <td>0.5</td>\n",
       "      <td>1.0</td>\n",
       "      <td>1.0</td>\n",
       "      <td>1.0</td>\n",
       "      <td>2.0</td>\n",
       "      <td>2.0</td>\n",
       "    </tr>\n",
       "    <tr>\n",
       "      <th>air_pollution</th>\n",
       "      <td>3.8</td>\n",
       "      <td>2.0</td>\n",
       "      <td>1.0</td>\n",
       "      <td>2.0</td>\n",
       "      <td>3.0</td>\n",
       "      <td>6.0</td>\n",
       "      <td>8.0</td>\n",
       "    </tr>\n",
       "    <tr>\n",
       "      <th>alcohol_use</th>\n",
       "      <td>4.6</td>\n",
       "      <td>2.6</td>\n",
       "      <td>1.0</td>\n",
       "      <td>2.0</td>\n",
       "      <td>5.0</td>\n",
       "      <td>7.0</td>\n",
       "      <td>8.0</td>\n",
       "    </tr>\n",
       "    <tr>\n",
       "      <th>dust_allergy</th>\n",
       "      <td>5.2</td>\n",
       "      <td>2.0</td>\n",
       "      <td>1.0</td>\n",
       "      <td>4.0</td>\n",
       "      <td>6.0</td>\n",
       "      <td>7.0</td>\n",
       "      <td>8.0</td>\n",
       "    </tr>\n",
       "    <tr>\n",
       "      <th>occupational_hazards</th>\n",
       "      <td>4.8</td>\n",
       "      <td>2.1</td>\n",
       "      <td>1.0</td>\n",
       "      <td>3.0</td>\n",
       "      <td>5.0</td>\n",
       "      <td>7.0</td>\n",
       "      <td>8.0</td>\n",
       "    </tr>\n",
       "    <tr>\n",
       "      <th>genetic_risk</th>\n",
       "      <td>4.6</td>\n",
       "      <td>2.1</td>\n",
       "      <td>1.0</td>\n",
       "      <td>2.0</td>\n",
       "      <td>5.0</td>\n",
       "      <td>7.0</td>\n",
       "      <td>7.0</td>\n",
       "    </tr>\n",
       "    <tr>\n",
       "      <th>chronic_lung_disease</th>\n",
       "      <td>4.4</td>\n",
       "      <td>1.8</td>\n",
       "      <td>1.0</td>\n",
       "      <td>3.0</td>\n",
       "      <td>4.0</td>\n",
       "      <td>6.0</td>\n",
       "      <td>7.0</td>\n",
       "    </tr>\n",
       "    <tr>\n",
       "      <th>balanced_diet</th>\n",
       "      <td>4.5</td>\n",
       "      <td>2.1</td>\n",
       "      <td>1.0</td>\n",
       "      <td>2.0</td>\n",
       "      <td>4.0</td>\n",
       "      <td>7.0</td>\n",
       "      <td>7.0</td>\n",
       "    </tr>\n",
       "    <tr>\n",
       "      <th>obesity</th>\n",
       "      <td>4.5</td>\n",
       "      <td>2.1</td>\n",
       "      <td>1.0</td>\n",
       "      <td>3.0</td>\n",
       "      <td>4.0</td>\n",
       "      <td>7.0</td>\n",
       "      <td>7.0</td>\n",
       "    </tr>\n",
       "    <tr>\n",
       "      <th>smoking</th>\n",
       "      <td>3.9</td>\n",
       "      <td>2.5</td>\n",
       "      <td>1.0</td>\n",
       "      <td>2.0</td>\n",
       "      <td>3.0</td>\n",
       "      <td>7.0</td>\n",
       "      <td>8.0</td>\n",
       "    </tr>\n",
       "    <tr>\n",
       "      <th>passive_smoker</th>\n",
       "      <td>4.2</td>\n",
       "      <td>2.3</td>\n",
       "      <td>1.0</td>\n",
       "      <td>2.0</td>\n",
       "      <td>4.0</td>\n",
       "      <td>7.0</td>\n",
       "      <td>8.0</td>\n",
       "    </tr>\n",
       "    <tr>\n",
       "      <th>chest_pain</th>\n",
       "      <td>4.4</td>\n",
       "      <td>2.3</td>\n",
       "      <td>1.0</td>\n",
       "      <td>2.0</td>\n",
       "      <td>4.0</td>\n",
       "      <td>7.0</td>\n",
       "      <td>9.0</td>\n",
       "    </tr>\n",
       "    <tr>\n",
       "      <th>coughing_of_blood</th>\n",
       "      <td>4.9</td>\n",
       "      <td>2.4</td>\n",
       "      <td>1.0</td>\n",
       "      <td>3.0</td>\n",
       "      <td>4.0</td>\n",
       "      <td>7.0</td>\n",
       "      <td>9.0</td>\n",
       "    </tr>\n",
       "    <tr>\n",
       "      <th>fatigue</th>\n",
       "      <td>3.9</td>\n",
       "      <td>2.2</td>\n",
       "      <td>1.0</td>\n",
       "      <td>2.0</td>\n",
       "      <td>3.0</td>\n",
       "      <td>5.0</td>\n",
       "      <td>9.0</td>\n",
       "    </tr>\n",
       "    <tr>\n",
       "      <th>weight_loss</th>\n",
       "      <td>3.9</td>\n",
       "      <td>2.2</td>\n",
       "      <td>1.0</td>\n",
       "      <td>2.0</td>\n",
       "      <td>3.0</td>\n",
       "      <td>6.0</td>\n",
       "      <td>8.0</td>\n",
       "    </tr>\n",
       "    <tr>\n",
       "      <th>shortness_of_breath</th>\n",
       "      <td>4.2</td>\n",
       "      <td>2.3</td>\n",
       "      <td>1.0</td>\n",
       "      <td>2.0</td>\n",
       "      <td>4.0</td>\n",
       "      <td>6.0</td>\n",
       "      <td>9.0</td>\n",
       "    </tr>\n",
       "    <tr>\n",
       "      <th>wheezing</th>\n",
       "      <td>3.8</td>\n",
       "      <td>2.0</td>\n",
       "      <td>1.0</td>\n",
       "      <td>2.0</td>\n",
       "      <td>4.0</td>\n",
       "      <td>5.0</td>\n",
       "      <td>8.0</td>\n",
       "    </tr>\n",
       "    <tr>\n",
       "      <th>swallowing_difficulty</th>\n",
       "      <td>3.7</td>\n",
       "      <td>2.3</td>\n",
       "      <td>1.0</td>\n",
       "      <td>2.0</td>\n",
       "      <td>4.0</td>\n",
       "      <td>5.0</td>\n",
       "      <td>8.0</td>\n",
       "    </tr>\n",
       "    <tr>\n",
       "      <th>clubbing_of_finger_nails</th>\n",
       "      <td>3.9</td>\n",
       "      <td>2.4</td>\n",
       "      <td>1.0</td>\n",
       "      <td>2.0</td>\n",
       "      <td>4.0</td>\n",
       "      <td>5.0</td>\n",
       "      <td>9.0</td>\n",
       "    </tr>\n",
       "    <tr>\n",
       "      <th>frequent_cold</th>\n",
       "      <td>3.5</td>\n",
       "      <td>1.8</td>\n",
       "      <td>1.0</td>\n",
       "      <td>2.0</td>\n",
       "      <td>3.0</td>\n",
       "      <td>5.0</td>\n",
       "      <td>7.0</td>\n",
       "    </tr>\n",
       "    <tr>\n",
       "      <th>dry_cough</th>\n",
       "      <td>3.9</td>\n",
       "      <td>2.0</td>\n",
       "      <td>1.0</td>\n",
       "      <td>2.0</td>\n",
       "      <td>4.0</td>\n",
       "      <td>6.0</td>\n",
       "      <td>7.0</td>\n",
       "    </tr>\n",
       "    <tr>\n",
       "      <th>snoring</th>\n",
       "      <td>2.9</td>\n",
       "      <td>1.5</td>\n",
       "      <td>1.0</td>\n",
       "      <td>2.0</td>\n",
       "      <td>3.0</td>\n",
       "      <td>4.0</td>\n",
       "      <td>7.0</td>\n",
       "    </tr>\n",
       "    <tr>\n",
       "      <th>level</th>\n",
       "      <td>1.1</td>\n",
       "      <td>0.8</td>\n",
       "      <td>0.0</td>\n",
       "      <td>0.0</td>\n",
       "      <td>1.0</td>\n",
       "      <td>2.0</td>\n",
       "      <td>2.0</td>\n",
       "    </tr>\n",
       "  </tbody>\n",
       "</table>\n",
       "</div>"
      ],
      "text/plain": [
       "                          mean   std   min   25%   50%   75%   max\n",
       "age                       37.2  12.0  14.0  28.0  36.0  45.0  73.0\n",
       "gender                     1.4   0.5   1.0   1.0   1.0   2.0   2.0\n",
       "air_pollution              3.8   2.0   1.0   2.0   3.0   6.0   8.0\n",
       "alcohol_use                4.6   2.6   1.0   2.0   5.0   7.0   8.0\n",
       "dust_allergy               5.2   2.0   1.0   4.0   6.0   7.0   8.0\n",
       "occupational_hazards       4.8   2.1   1.0   3.0   5.0   7.0   8.0\n",
       "genetic_risk               4.6   2.1   1.0   2.0   5.0   7.0   7.0\n",
       "chronic_lung_disease       4.4   1.8   1.0   3.0   4.0   6.0   7.0\n",
       "balanced_diet              4.5   2.1   1.0   2.0   4.0   7.0   7.0\n",
       "obesity                    4.5   2.1   1.0   3.0   4.0   7.0   7.0\n",
       "smoking                    3.9   2.5   1.0   2.0   3.0   7.0   8.0\n",
       "passive_smoker             4.2   2.3   1.0   2.0   4.0   7.0   8.0\n",
       "chest_pain                 4.4   2.3   1.0   2.0   4.0   7.0   9.0\n",
       "coughing_of_blood          4.9   2.4   1.0   3.0   4.0   7.0   9.0\n",
       "fatigue                    3.9   2.2   1.0   2.0   3.0   5.0   9.0\n",
       "weight_loss                3.9   2.2   1.0   2.0   3.0   6.0   8.0\n",
       "shortness_of_breath        4.2   2.3   1.0   2.0   4.0   6.0   9.0\n",
       "wheezing                   3.8   2.0   1.0   2.0   4.0   5.0   8.0\n",
       "swallowing_difficulty      3.7   2.3   1.0   2.0   4.0   5.0   8.0\n",
       "clubbing_of_finger_nails   3.9   2.4   1.0   2.0   4.0   5.0   9.0\n",
       "frequent_cold              3.5   1.8   1.0   2.0   3.0   5.0   7.0\n",
       "dry_cough                  3.9   2.0   1.0   2.0   4.0   6.0   7.0\n",
       "snoring                    2.9   1.5   1.0   2.0   3.0   4.0   7.0\n",
       "level                      1.1   0.8   0.0   0.0   1.0   2.0   2.0"
      ]
     },
     "execution_count": 7,
     "metadata": {},
     "output_type": "execute_result"
    }
   ],
   "source": [
    "# Round\n",
    "\n",
    "print('\\n')\n",
    "round(df.describe().iloc[1:, ].T, 1)"
   ]
  },
  {
   "attachments": {},
   "cell_type": "markdown",
   "id": "ce49d08c",
   "metadata": {
    "papermill": {
     "duration": 0.014334,
     "end_time": "2023-01-09T16:20:27.993731",
     "exception": false,
     "start_time": "2023-01-09T16:20:27.979397",
     "status": "completed"
    },
    "tags": []
   },
   "source": [
    "# **Print and Visualize Columns**"
   ]
  },
  {
   "cell_type": "code",
   "execution_count": 8,
   "id": "88695963",
   "metadata": {
    "execution": {
     "iopub.execute_input": "2023-01-09T16:20:28.025405Z",
     "iopub.status.busy": "2023-01-09T16:20:28.024917Z",
     "iopub.status.idle": "2023-01-09T16:20:28.033905Z",
     "shell.execute_reply": "2023-01-09T16:20:28.032511Z"
    },
    "papermill": {
     "duration": 0.028093,
     "end_time": "2023-01-09T16:20:28.036488",
     "exception": false,
     "start_time": "2023-01-09T16:20:28.008395",
     "status": "completed"
    },
    "tags": []
   },
   "outputs": [
    {
     "name": "stdout",
     "output_type": "stream",
     "text": [
      "\n",
      "\n"
     ]
    },
    {
     "data": {
      "text/plain": [
       "Index(['age', 'gender', 'air_pollution', 'alcohol_use', 'dust_allergy',\n",
       "       'occupational_hazards', 'genetic_risk', 'chronic_lung_disease',\n",
       "       'balanced_diet', 'obesity', 'smoking', 'passive_smoker', 'chest_pain',\n",
       "       'coughing_of_blood', 'fatigue', 'weight_loss', 'shortness_of_breath',\n",
       "       'wheezing', 'swallowing_difficulty', 'clubbing_of_finger_nails',\n",
       "       'frequent_cold', 'dry_cough', 'snoring', 'level'],\n",
       "      dtype='object')"
      ]
     },
     "execution_count": 8,
     "metadata": {},
     "output_type": "execute_result"
    }
   ],
   "source": [
    "# Print and Visualize Columns\n",
    "\n",
    "print('\\n')\n",
    "df.columns"
   ]
  },
  {
   "cell_type": "code",
   "execution_count": 9,
   "id": "582c8f6f",
   "metadata": {
    "execution": {
     "iopub.execute_input": "2023-01-09T16:20:28.068220Z",
     "iopub.status.busy": "2023-01-09T16:20:28.067725Z",
     "iopub.status.idle": "2023-01-09T16:20:28.074024Z",
     "shell.execute_reply": "2023-01-09T16:20:28.072598Z"
    },
    "papermill": {
     "duration": 0.025017,
     "end_time": "2023-01-09T16:20:28.076426",
     "exception": false,
     "start_time": "2023-01-09T16:20:28.051409",
     "status": "completed"
    },
    "tags": []
   },
   "outputs": [],
   "source": [
    "# Consolidating Necessary Columns\n",
    "\n",
    "cols = [\n",
    "    'age', 'weight_loss', 'smoking'\n",
    "]\n",
    "\n",
    "cols2 = [ 'gender']\n",
    "\n",
    "cols3 = [\n",
    "    'air_pollution', 'alcohol_use', 'dust_allergy', 'smoking', 'chest_pain', 'fatigue'\n",
    "]"
   ]
  },
  {
   "cell_type": "code",
   "execution_count": 10,
   "id": "98ac27b9",
   "metadata": {
    "execution": {
     "iopub.execute_input": "2023-01-09T16:20:28.109216Z",
     "iopub.status.busy": "2023-01-09T16:20:28.108093Z",
     "iopub.status.idle": "2023-01-09T16:20:29.872270Z",
     "shell.execute_reply": "2023-01-09T16:20:29.870794Z"
    },
    "papermill": {
     "duration": 1.783659,
     "end_time": "2023-01-09T16:20:29.875087",
     "exception": false,
     "start_time": "2023-01-09T16:20:28.091428",
     "status": "completed"
    },
    "tags": []
   },
   "outputs": [
    {
     "name": "stdout",
     "output_type": "stream",
     "text": [
      "\n",
      "\n",
      "*************************************************************************************************************************\n"
     ]
    },
    {
     "name": "stderr",
     "output_type": "stream",
     "text": [
      "C:\\Users\\Acer\\AppData\\Roaming\\Python\\Python39\\site-packages\\matplotlib_inline\\config.py:75: DeprecationWarning: InlineBackend._figure_format_changed is deprecated in traitlets 4.1: use @observe and @unobserve instead.\n",
      "  def _figure_format_changed(self, name, old, new):\n"
     ]
    },
    {
     "data": {
      "image/png": "[encoded data removed]",
      "text/plain": [
       "<Figure size 1080x864 with 1 Axes>"
      ]
     },
     "metadata": {
      "image/png": {
       "height": 696,
       "width": 885
      },
      "needs_background": "light"
     },
     "output_type": "display_data"
    },
    {
     "name": "stdout",
     "output_type": "stream",
     "text": [
      "*************************************************************************************************************************\n"
     ]
    },
    {
     "data": {
      "image/png": "[encoded data removed]",
      "text/plain": [
       "<Figure size 1080x864 with 1 Axes>"
      ]
     },
     "metadata": {
      "image/png": {
       "height": 696,
       "width": 878
      },
      "needs_background": "light"
     },
     "output_type": "display_data"
    },
    {
     "name": "stdout",
     "output_type": "stream",
     "text": [
      "*************************************************************************************************************************\n"
     ]
    },
    {
     "data": {
      "image/png": "[encoded data removed]",
      "text/plain": [
       "<Figure size 1080x864 with 1 Axes>"
      ]
     },
     "metadata": {
      "image/png": {
       "height": 696,
       "width": 878
      },
      "needs_background": "light"
     },
     "output_type": "display_data"
    },
    {
     "name": "stdout",
     "output_type": "stream",
     "text": [
      "**********************************************************************************************************************\n"
     ]
    },
    {
     "data": {
      "image/png": "[encoded data removed]",
      "text/plain": [
       "<Figure size 1080x144 with 1 Axes>"
      ]
     },
     "metadata": {
      "image/png": {
       "height": 153,
       "width": 877
      },
      "needs_background": "light"
     },
     "output_type": "display_data"
    },
    {
     "name": "stdout",
     "output_type": "stream",
     "text": [
      "\n",
      "\n"
     ]
    }
   ],
   "source": [
    "#Presenting the countplots for categorical features\n",
    "\n",
    "print('\\n')\n",
    "for i in cols:\n",
    "  fig, ax = plt.subplots(1,1, figsize=(15, 12))\n",
    "  sns.countplot(y = df[i],data=df, order=df[i].value_counts().index, palette='Blues_r')\n",
    "  plt.ylabel(i)\n",
    "  plt.yticks(fontsize=10)\n",
    "  print(\"*************************************************************************************************************************\")\n",
    "  plt.box(False)\n",
    "  plt.show()\n",
    "\n",
    "# Gender\n",
    "for i in cols2:\n",
    "    fig, ax = plt.subplots(1,1, figsize=(15, 2))\n",
    "    sns.countplot(y = df[i],data=df, order=df[i].value_counts().index, palette='Blues_r')\n",
    "    plt.ylabel(i)\n",
    "    plt.yticks(fontsize=8)\n",
    "    print(\"**********************************************************************************************************************\")\n",
    "    plt.box(False)\n",
    "    plt.show()\n",
    "\n",
    "print('\\n')"
   ]
  },
  {
   "cell_type": "code",
   "execution_count": 11,
   "id": "4e21235e",
   "metadata": {
    "execution": {
     "iopub.execute_input": "2023-01-09T16:20:29.913892Z",
     "iopub.status.busy": "2023-01-09T16:20:29.913431Z",
     "iopub.status.idle": "2023-01-09T16:20:31.101801Z",
     "shell.execute_reply": "2023-01-09T16:20:31.100671Z"
    },
    "papermill": {
     "duration": 1.212715,
     "end_time": "2023-01-09T16:20:31.106283",
     "exception": false,
     "start_time": "2023-01-09T16:20:29.893568",
     "status": "completed"
    },
    "tags": []
   },
   "outputs": [
    {
     "name": "stdout",
     "output_type": "stream",
     "text": [
      "\n",
      "\n"
     ]
    },
    {
     "data": {
      "image/png": "[encoded data removed]",
      "text/plain": [
       "<Figure size 1440x720 with 6 Axes>"
      ]
     },
     "metadata": {
      "image/png": {
       "height": 590,
       "width": 1156
      },
      "needs_background": "light"
     },
     "output_type": "display_data"
    },
    {
     "name": "stdout",
     "output_type": "stream",
     "text": [
      "\n",
      "\n"
     ]
    }
   ],
   "source": [
    "# Histograms\n",
    "\n",
    "print('\\n')\n",
    "fig, ax = plt.subplots(ncols=3, nrows=2, figsize=(20, 10))\n",
    "ax = ax.flatten()\n",
    "i = 0\n",
    "\n",
    "for c in cols3:\n",
    "    df.hist(c, figsize=(4,4), ax=ax[i], label=f'{c}')\n",
    "    i = i + 1;\n",
    "plt.show()\n",
    "print('\\n')"
   ]
  },
  {
   "cell_type": "code",
   "execution_count": 12,
   "id": "17e201e4",
   "metadata": {
    "execution": {
     "iopub.execute_input": "2023-01-09T16:20:31.147122Z",
     "iopub.status.busy": "2023-01-09T16:20:31.146288Z",
     "iopub.status.idle": "2023-01-09T16:20:31.325449Z",
     "shell.execute_reply": "2023-01-09T16:20:31.324016Z"
    },
    "papermill": {
     "duration": 0.202486,
     "end_time": "2023-01-09T16:20:31.328876",
     "exception": false,
     "start_time": "2023-01-09T16:20:31.126390",
     "status": "completed"
    },
    "tags": []
   },
   "outputs": [
    {
     "data": {
      "image/png": "[encoded data removed]",
      "text/plain": [
       "<Figure size 432x432 with 1 Axes>"
      ]
     },
     "metadata": {
      "image/png": {
       "height": 340,
       "width": 354
      }
     },
     "output_type": "display_data"
    }
   ],
   "source": [
    "# Pie Chart\n",
    "\n",
    "df['level'].value_counts().plot(kind='pie', figsize=(6, 6), autopct='%1.1f%%')\n",
    "plt.show()"
   ]
  },
  {
   "cell_type": "code",
   "execution_count": 13,
   "id": "eb5f514e",
   "metadata": {
    "execution": {
     "iopub.execute_input": "2023-01-09T16:20:31.378286Z",
     "iopub.status.busy": "2023-01-09T16:20:31.377127Z",
     "iopub.status.idle": "2023-01-09T16:20:31.855273Z",
     "shell.execute_reply": "2023-01-09T16:20:31.853692Z"
    },
    "papermill": {
     "duration": 0.502404,
     "end_time": "2023-01-09T16:20:31.858127",
     "exception": false,
     "start_time": "2023-01-09T16:20:31.355723",
     "status": "completed"
    },
    "tags": []
   },
   "outputs": [
    {
     "name": "stdout",
     "output_type": "stream",
     "text": [
      "\n",
      "\tSmoking and Label of Lung Cancer\n"
     ]
    },
    {
     "data": {
      "image/png": "[encoded data removed]",
      "text/plain": [
       "<Figure size 432x288 with 1 Axes>"
      ]
     },
     "metadata": {
      "image/png": {
       "height": 248,
       "width": 378
      },
      "needs_background": "light"
     },
     "output_type": "display_data"
    },
    {
     "name": "stdout",
     "output_type": "stream",
     "text": [
      "\n",
      "\n",
      "\n",
      "\tAir Polution and Label of Lung Cancer\n"
     ]
    },
    {
     "data": {
      "image/png": "[encoded data removed]",
      "text/plain": [
       "<Figure size 432x288 with 1 Axes>"
      ]
     },
     "metadata": {
      "image/png": {
       "height": 248,
       "width": 378
      },
      "needs_background": "light"
     },
     "output_type": "display_data"
    },
    {
     "name": "stdout",
     "output_type": "stream",
     "text": [
      "\n",
      "\n"
     ]
    }
   ],
   "source": [
    "# Scatter Plot\n",
    "\n",
    "print('\\n\\tSmoking and Label of Lung Cancer')\n",
    "plt.scatter(df['smoking'], df['level'])\n",
    "plt.show()\n",
    "print('\\n')\n",
    "\n",
    "print('\\n\\tAir Polution and Label of Lung Cancer')\n",
    "plt.scatter(df['air_pollution'], df['level'])\n",
    "plt.show()\n",
    "print('\\n')"
   ]
  },
  {
   "attachments": {},
   "cell_type": "markdown",
   "id": "8d9500af",
   "metadata": {
    "papermill": {
     "duration": 0.020078,
     "end_time": "2023-01-09T16:20:33.024814",
     "exception": false,
     "start_time": "2023-01-09T16:20:33.004736",
     "status": "completed"
    },
    "tags": []
   },
   "source": [
    "# **Heatmap**"
   ]
  },
  {
   "cell_type": "code",
   "execution_count": 14,
   "id": "979e07ca",
   "metadata": {},
   "outputs": [
    {
     "data": {
      "image/png": "[encoded data removed]",
      "text/plain": [
       "<Figure size 720x576 with 1 Axes>"
      ]
     },
     "metadata": {
      "image/png": {
       "height": 494,
       "width": 713
      },
      "needs_background": "light"
     },
     "output_type": "display_data"
    }
   ],
   "source": [
    "# Calculate the correlation values between each variable and the level variable\n",
    "correlations = df.corr()['level'].drop('level')\n",
    "correlations = correlations.abs().sort_values(ascending=False)\n",
    "\n",
    "# Plot a horizontal bar chart of the top variables with their respective correlation values\n",
    "plt.figure(figsize=(10,8))\n",
    "ax = sns.barplot(x=correlations.values, y=correlations.index, palette='PuBu_r')\n",
    "ax.set_title('Top Variables Most Associated with Lung Cancer Level')\n",
    "ax.set_xlabel('Correlation with Lung Cancer Level')\n",
    "ax.set_ylabel('Variable')\n",
    "plt.show()\n"
   ]
  },
  {
   "attachments": {},
   "cell_type": "markdown",
   "id": "5355a90b",
   "metadata": {
    "papermill": {
     "duration": 0.032631,
     "end_time": "2023-01-09T16:20:36.471030",
     "exception": false,
     "start_time": "2023-01-09T16:20:36.438399",
     "status": "completed"
    },
    "tags": []
   },
   "source": [
    "# **Visualization of gender**"
   ]
  },
  {
   "cell_type": "code",
   "execution_count": 15,
   "id": "6283f2b3",
   "metadata": {},
   "outputs": [
    {
     "data": {
      "image/png": "[encoded data removed]",
      "text/plain": [
       "<Figure size 432x288 with 1 Axes>"
      ]
     },
     "metadata": {
      "image/png": {
       "height": 274,
       "width": 388
      },
      "needs_background": "light"
     },
     "output_type": "display_data"
    }
   ],
   "source": [
    "A = df\n",
    "\n",
    "# Group the data by gender and level\n",
    "grouped = A.groupby(['gender', 'level']).size().unstack()\n",
    "\n",
    "# Select only the column for level 1\n",
    "grouped = grouped[[0]]\n",
    "\n",
    "# Create a stacked column chart\n",
    "grouped.plot(kind='bar', stacked=True)\n",
    "\n",
    "# Add axis labels and a title\n",
    "plt.xlabel('Gender')\n",
    "plt.ylabel('Count')\n",
    "plt.title('Counts of Gender and Level 0')\n",
    "\n",
    "# Display the chart\n",
    "plt.show()"
   ]
  },
  {
   "cell_type": "code",
   "execution_count": 16,
   "id": "6309f6da",
   "metadata": {
    "execution": {
     "iopub.execute_input": "2023-01-09T16:20:36.539653Z",
     "iopub.status.busy": "2023-01-09T16:20:36.538845Z",
     "iopub.status.idle": "2023-01-09T16:20:36.565630Z",
     "shell.execute_reply": "2023-01-09T16:20:36.564710Z"
    },
    "papermill": {
     "duration": 0.063677,
     "end_time": "2023-01-09T16:20:36.568026",
     "exception": false,
     "start_time": "2023-01-09T16:20:36.504349",
     "status": "completed"
    },
    "tags": []
   },
   "outputs": [
    {
     "data": {
      "image/png": "[encoded data removed]",
      "text/plain": [
       "<Figure size 432x288 with 1 Axes>"
      ]
     },
     "metadata": {
      "image/png": {
       "height": 274,
       "width": 388
      },
      "needs_background": "light"
     },
     "output_type": "display_data"
    }
   ],
   "source": [
    "# Group the data by gender and level\n",
    "grouped = A.groupby(['gender', 'level']).size().unstack()\n",
    "\n",
    "# Select only the column for level 1\n",
    "grouped = grouped[[1]]\n",
    "\n",
    "# Create a stacked column chart\n",
    "grouped.plot(kind='bar', stacked=True)\n",
    "\n",
    "# Add axis labels and a title\n",
    "plt.xlabel('Gender')\n",
    "plt.ylabel('Count')\n",
    "plt.title('Counts of Gender and Level 1')\n",
    "\n",
    "# Display the chart\n",
    "plt.show()\n"
   ]
  },
  {
   "cell_type": "code",
   "execution_count": 17,
   "id": "07da9ea9",
   "metadata": {},
   "outputs": [
    {
     "data": {
      "image/png": "[encoded data removed]",
      "text/plain": [
       "<Figure size 432x288 with 1 Axes>"
      ]
     },
     "metadata": {
      "image/png": {
       "height": 274,
       "width": 388
      },
      "needs_background": "light"
     },
     "output_type": "display_data"
    }
   ],
   "source": [
    "# Group the data by gender and level\n",
    "grouped = A.groupby(['gender', 'level']).size().unstack()\n",
    "\n",
    "# Select only the column for level 1\n",
    "grouped = grouped[[2]]\n",
    "\n",
    "# Create a stacked column chart\n",
    "grouped.plot(kind='bar', stacked=True)\n",
    "\n",
    "# Add axis labels and a title\n",
    "plt.xlabel('Gender')\n",
    "plt.ylabel('Count')\n",
    "plt.title('Counts of Gender and Level 2')\n",
    "\n",
    "# Display the chart\n",
    "plt.show()"
   ]
  },
  {
   "attachments": {},
   "cell_type": "markdown",
   "id": "e3f0ea11",
   "metadata": {},
   "source": [
    "# **Visualization of age**"
   ]
  },
  {
   "cell_type": "code",
   "execution_count": 18,
   "id": "0df0b043",
   "metadata": {},
   "outputs": [
    {
     "data": {
      "image/png": "[encoded data removed]",
      "text/plain": [
       "<Figure size 432x288 with 1 Axes>"
      ]
     },
     "metadata": {
      "image/png": {
       "height": 339,
       "width": 388
      },
      "needs_background": "light"
     },
     "output_type": "display_data"
    }
   ],
   "source": [
    "# Divide age into 5 groups\n",
    "A['age_group'] = pd.cut(A['age'], bins=5)\n",
    "\n",
    "# Group the data by age group and level\n",
    "grouped = A.groupby(['age_group', 'level']).size().unstack()\n",
    "\n",
    "# Select only the column for level 1\n",
    "#grouped = grouped[[0]]\n",
    "\n",
    "# Create a stacked column chart\n",
    "grouped.plot(kind='bar', stacked=True)\n",
    "\n",
    "# Add axis labels and a title\n",
    "plt.xlabel('Age Group')\n",
    "plt.ylabel('Count')\n",
    "plt.title('Counts of Age Group and Level')\n",
    "\n",
    "# Display the chart\n",
    "plt.show()"
   ]
  },
  {
   "attachments": {},
   "cell_type": "markdown",
   "id": "e3c7c376",
   "metadata": {},
   "source": [
    "# **Setting Target**"
   ]
  },
  {
   "cell_type": "code",
   "execution_count": 19,
   "id": "cdb8d28c",
   "metadata": {},
   "outputs": [
    {
     "name": "stdout",
     "output_type": "stream",
     "text": [
      "\n",
      "\n"
     ]
    },
    {
     "data": {
      "text/html": [
       "<div>\n",
       "<style scoped>\n",
       "    .dataframe tbody tr th:only-of-type {\n",
       "        vertical-align: middle;\n",
       "    }\n",
       "\n",
       "    .dataframe tbody tr th {\n",
       "        vertical-align: top;\n",
       "    }\n",
       "\n",
       "    .dataframe thead th {\n",
       "        text-align: right;\n",
       "    }\n",
       "</style>\n",
       "<table border=\"1\" class=\"dataframe\">\n",
       "  <thead>\n",
       "    <tr style=\"text-align: right;\">\n",
       "      <th></th>\n",
       "      <th>age</th>\n",
       "      <th>gender</th>\n",
       "      <th>air_pollution</th>\n",
       "      <th>alcohol_use</th>\n",
       "      <th>dust_allergy</th>\n",
       "      <th>occupational_hazards</th>\n",
       "      <th>genetic_risk</th>\n",
       "      <th>chronic_lung_disease</th>\n",
       "      <th>balanced_diet</th>\n",
       "      <th>obesity</th>\n",
       "      <th>...</th>\n",
       "      <th>coughing_of_blood</th>\n",
       "      <th>fatigue</th>\n",
       "      <th>weight_loss</th>\n",
       "      <th>shortness_of_breath</th>\n",
       "      <th>wheezing</th>\n",
       "      <th>swallowing_difficulty</th>\n",
       "      <th>clubbing_of_finger_nails</th>\n",
       "      <th>frequent_cold</th>\n",
       "      <th>dry_cough</th>\n",
       "      <th>snoring</th>\n",
       "    </tr>\n",
       "    <tr>\n",
       "      <th>index</th>\n",
       "      <th></th>\n",
       "      <th></th>\n",
       "      <th></th>\n",
       "      <th></th>\n",
       "      <th></th>\n",
       "      <th></th>\n",
       "      <th></th>\n",
       "      <th></th>\n",
       "      <th></th>\n",
       "      <th></th>\n",
       "      <th></th>\n",
       "      <th></th>\n",
       "      <th></th>\n",
       "      <th></th>\n",
       "      <th></th>\n",
       "      <th></th>\n",
       "      <th></th>\n",
       "      <th></th>\n",
       "      <th></th>\n",
       "      <th></th>\n",
       "      <th></th>\n",
       "    </tr>\n",
       "  </thead>\n",
       "  <tbody>\n",
       "    <tr>\n",
       "      <th>0</th>\n",
       "      <td>33</td>\n",
       "      <td>1</td>\n",
       "      <td>2</td>\n",
       "      <td>4</td>\n",
       "      <td>5</td>\n",
       "      <td>4</td>\n",
       "      <td>3</td>\n",
       "      <td>2</td>\n",
       "      <td>2</td>\n",
       "      <td>4</td>\n",
       "      <td>...</td>\n",
       "      <td>4</td>\n",
       "      <td>3</td>\n",
       "      <td>4</td>\n",
       "      <td>2</td>\n",
       "      <td>2</td>\n",
       "      <td>3</td>\n",
       "      <td>1</td>\n",
       "      <td>2</td>\n",
       "      <td>3</td>\n",
       "      <td>4</td>\n",
       "    </tr>\n",
       "    <tr>\n",
       "      <th>1</th>\n",
       "      <td>17</td>\n",
       "      <td>1</td>\n",
       "      <td>3</td>\n",
       "      <td>1</td>\n",
       "      <td>5</td>\n",
       "      <td>3</td>\n",
       "      <td>4</td>\n",
       "      <td>2</td>\n",
       "      <td>2</td>\n",
       "      <td>2</td>\n",
       "      <td>...</td>\n",
       "      <td>3</td>\n",
       "      <td>1</td>\n",
       "      <td>3</td>\n",
       "      <td>7</td>\n",
       "      <td>8</td>\n",
       "      <td>6</td>\n",
       "      <td>2</td>\n",
       "      <td>1</td>\n",
       "      <td>7</td>\n",
       "      <td>2</td>\n",
       "    </tr>\n",
       "    <tr>\n",
       "      <th>2</th>\n",
       "      <td>35</td>\n",
       "      <td>1</td>\n",
       "      <td>4</td>\n",
       "      <td>5</td>\n",
       "      <td>6</td>\n",
       "      <td>5</td>\n",
       "      <td>5</td>\n",
       "      <td>4</td>\n",
       "      <td>6</td>\n",
       "      <td>7</td>\n",
       "      <td>...</td>\n",
       "      <td>8</td>\n",
       "      <td>8</td>\n",
       "      <td>7</td>\n",
       "      <td>9</td>\n",
       "      <td>2</td>\n",
       "      <td>1</td>\n",
       "      <td>4</td>\n",
       "      <td>6</td>\n",
       "      <td>7</td>\n",
       "      <td>2</td>\n",
       "    </tr>\n",
       "    <tr>\n",
       "      <th>3</th>\n",
       "      <td>37</td>\n",
       "      <td>1</td>\n",
       "      <td>7</td>\n",
       "      <td>7</td>\n",
       "      <td>7</td>\n",
       "      <td>7</td>\n",
       "      <td>6</td>\n",
       "      <td>7</td>\n",
       "      <td>7</td>\n",
       "      <td>7</td>\n",
       "      <td>...</td>\n",
       "      <td>8</td>\n",
       "      <td>4</td>\n",
       "      <td>2</td>\n",
       "      <td>3</td>\n",
       "      <td>1</td>\n",
       "      <td>4</td>\n",
       "      <td>5</td>\n",
       "      <td>6</td>\n",
       "      <td>7</td>\n",
       "      <td>5</td>\n",
       "    </tr>\n",
       "    <tr>\n",
       "      <th>4</th>\n",
       "      <td>46</td>\n",
       "      <td>1</td>\n",
       "      <td>6</td>\n",
       "      <td>8</td>\n",
       "      <td>7</td>\n",
       "      <td>7</td>\n",
       "      <td>7</td>\n",
       "      <td>6</td>\n",
       "      <td>7</td>\n",
       "      <td>7</td>\n",
       "      <td>...</td>\n",
       "      <td>9</td>\n",
       "      <td>3</td>\n",
       "      <td>2</td>\n",
       "      <td>4</td>\n",
       "      <td>1</td>\n",
       "      <td>4</td>\n",
       "      <td>2</td>\n",
       "      <td>4</td>\n",
       "      <td>2</td>\n",
       "      <td>3</td>\n",
       "    </tr>\n",
       "  </tbody>\n",
       "</table>\n",
       "<p>5 rows × 23 columns</p>\n",
       "</div>"
      ],
      "text/plain": [
       "       age  gender  air_pollution  alcohol_use  dust_allergy  \\\n",
       "index                                                          \n",
       "0       33       1              2            4             5   \n",
       "1       17       1              3            1             5   \n",
       "2       35       1              4            5             6   \n",
       "3       37       1              7            7             7   \n",
       "4       46       1              6            8             7   \n",
       "\n",
       "       occupational_hazards  genetic_risk  chronic_lung_disease  \\\n",
       "index                                                             \n",
       "0                         4             3                     2   \n",
       "1                         3             4                     2   \n",
       "2                         5             5                     4   \n",
       "3                         7             6                     7   \n",
       "4                         7             7                     6   \n",
       "\n",
       "       balanced_diet  obesity  ...  coughing_of_blood  fatigue  weight_loss  \\\n",
       "index                          ...                                            \n",
       "0                  2        4  ...                  4        3            4   \n",
       "1                  2        2  ...                  3        1            3   \n",
       "2                  6        7  ...                  8        8            7   \n",
       "3                  7        7  ...                  8        4            2   \n",
       "4                  7        7  ...                  9        3            2   \n",
       "\n",
       "       shortness_of_breath  wheezing  swallowing_difficulty  \\\n",
       "index                                                         \n",
       "0                        2         2                      3   \n",
       "1                        7         8                      6   \n",
       "2                        9         2                      1   \n",
       "3                        3         1                      4   \n",
       "4                        4         1                      4   \n",
       "\n",
       "       clubbing_of_finger_nails  frequent_cold  dry_cough  snoring  \n",
       "index                                                               \n",
       "0                             1              2          3        4  \n",
       "1                             2              1          7        2  \n",
       "2                             4              6          7        2  \n",
       "3                             5              6          7        5  \n",
       "4                             2              4          2        3  \n",
       "\n",
       "[5 rows x 23 columns]"
      ]
     },
     "metadata": {},
     "output_type": "display_data"
    },
    {
     "data": {
      "text/plain": [
       "index\n",
       "0    0\n",
       "1    1\n",
       "2    2\n",
       "3    2\n",
       "4    2\n",
       "5    2\n",
       "6    0\n",
       "7    0\n",
       "8    1\n",
       "9    1\n",
       "Name: level, dtype: int64"
      ]
     },
     "metadata": {},
     "output_type": "display_data"
    },
    {
     "name": "stdout",
     "output_type": "stream",
     "text": [
      "\n",
      "\n"
     ]
    }
   ],
   "source": [
    "# Setting Target\n",
    "\n",
    "X = df.drop(columns='level')\n",
    "X = X.drop(columns='age_group')\n",
    "y = df.level\n",
    "\n",
    "print('\\n')\n",
    "display(X.head(), y[:10])\n",
    "print('\\n')"
   ]
  },
  {
   "attachments": {},
   "cell_type": "markdown",
   "id": "c22c8ada",
   "metadata": {
    "papermill": {
     "duration": 0.033092,
     "end_time": "2023-01-09T16:20:36.713549",
     "exception": false,
     "start_time": "2023-01-09T16:20:36.680457",
     "status": "completed"
    },
    "tags": []
   },
   "source": [
    "# **Train Test Split**"
   ]
  },
  {
   "cell_type": "code",
   "execution_count": 20,
   "id": "74c47f72",
   "metadata": {
    "execution": {
     "iopub.execute_input": "2023-01-09T16:20:36.786217Z",
     "iopub.status.busy": "2023-01-09T16:20:36.785044Z",
     "iopub.status.idle": "2023-01-09T16:20:36.798669Z",
     "shell.execute_reply": "2023-01-09T16:20:36.796949Z"
    },
    "papermill": {
     "duration": 0.05462,
     "end_time": "2023-01-09T16:20:36.802303",
     "exception": false,
     "start_time": "2023-01-09T16:20:36.747683",
     "status": "completed"
    },
    "tags": []
   },
   "outputs": [
    {
     "name": "stdout",
     "output_type": "stream",
     "text": [
      "\n",
      "Train Shape\n",
      "\n",
      "X train shape:  (1600, 23)\n",
      "Y train shape:  (1600,)\n",
      "\n",
      "\n",
      "Test Shape\n",
      "\n",
      "X test shape:  (401, 23)\n",
      "Y test shape:  (401,)\n",
      "\n",
      "\n"
     ]
    }
   ],
   "source": [
    "# Train-Test Split\n",
    "\n",
    "X_train, X_test, y_train, y_test = train_test_split(X, y, test_size=0.2, random_state=40)\n",
    "print('\\nTrain Shape\\n')\n",
    "print('X train shape: ', X_train.shape)\n",
    "print('Y train shape: ', y_train.shape)\n",
    "print('\\n\\nTest Shape\\n')\n",
    "print('X test shape: ', X_test.shape)\n",
    "print('Y test shape: ', y_test.shape)\n",
    "print('\\n')"
   ]
  },
  {
   "attachments": {},
   "cell_type": "markdown",
   "id": "1a7b9c26",
   "metadata": {
    "papermill": {
     "duration": 0.033221,
     "end_time": "2023-01-09T16:20:36.869253",
     "exception": false,
     "start_time": "2023-01-09T16:20:36.836032",
     "status": "completed"
    },
    "tags": []
   },
   "source": [
    "# **Scaling the Data**"
   ]
  },
  {
   "cell_type": "code",
   "execution_count": 21,
   "id": "7f87c8ce",
   "metadata": {
    "execution": {
     "iopub.execute_input": "2023-01-09T16:20:36.938046Z",
     "iopub.status.busy": "2023-01-09T16:20:36.937515Z",
     "iopub.status.idle": "2023-01-09T16:20:36.951409Z",
     "shell.execute_reply": "2023-01-09T16:20:36.950091Z"
    },
    "papermill": {
     "duration": 0.051719,
     "end_time": "2023-01-09T16:20:36.954281",
     "exception": false,
     "start_time": "2023-01-09T16:20:36.902562",
     "status": "completed"
    },
    "tags": []
   },
   "outputs": [],
   "source": [
    "# Data Scaling\n",
    "scaler=StandardScaler()\n",
    "X_train_scaled=scaler.fit_transform(X_train)\n",
    "X_test_scaled=scaler.transform(X_test)\n"
   ]
  },
  {
   "attachments": {},
   "cell_type": "markdown",
   "id": "9df72946",
   "metadata": {
    "papermill": {
     "duration": 0.034152,
     "end_time": "2023-01-09T16:20:37.024449",
     "exception": false,
     "start_time": "2023-01-09T16:20:36.990297",
     "status": "completed"
    },
    "tags": []
   },
   "source": [
    "# **Logistic Regression**"
   ]
  },
  {
   "cell_type": "code",
   "execution_count": 22,
   "id": "69247aa7",
   "metadata": {
    "execution": {
     "iopub.execute_input": "2023-01-09T16:20:37.096238Z",
     "iopub.status.busy": "2023-01-09T16:20:37.095279Z",
     "iopub.status.idle": "2023-01-09T16:20:37.139809Z",
     "shell.execute_reply": "2023-01-09T16:20:37.138561Z"
    },
    "papermill": {
     "duration": 0.083417,
     "end_time": "2023-01-09T16:20:37.143465",
     "exception": false,
     "start_time": "2023-01-09T16:20:37.060048",
     "status": "completed"
    },
    "tags": []
   },
   "outputs": [],
   "source": [
    "# Logistic Regression\n",
    "\n",
    "logreg = LogisticRegression(C=24)\n",
    "\n",
    "logreg.fit(X_train_scaled, y_train)\n",
    "\n",
    "y_predict1 = logreg.predict(X_test_scaled)"
   ]
  },
  {
   "attachments": {},
   "cell_type": "markdown",
   "id": "bbcdc139",
   "metadata": {
    "papermill": {
     "duration": 0.032989,
     "end_time": "2023-01-09T16:20:37.209866",
     "exception": false,
     "start_time": "2023-01-09T16:20:37.176877",
     "status": "completed"
    },
    "tags": []
   },
   "source": [
    "**Confusion Matrix**"
   ]
  },
  {
   "cell_type": "code",
   "execution_count": 23,
   "id": "13785687",
   "metadata": {
    "execution": {
     "iopub.execute_input": "2023-01-09T16:20:37.278585Z",
     "iopub.status.busy": "2023-01-09T16:20:37.278064Z",
     "iopub.status.idle": "2023-01-09T16:20:37.600910Z",
     "shell.execute_reply": "2023-01-09T16:20:37.599565Z"
    },
    "papermill": {
     "duration": 0.360441,
     "end_time": "2023-01-09T16:20:37.603623",
     "exception": false,
     "start_time": "2023-01-09T16:20:37.243182",
     "status": "completed"
    },
    "tags": []
   },
   "outputs": [
    {
     "name": "stdout",
     "output_type": "stream",
     "text": [
      "\n",
      "\n"
     ]
    },
    {
     "data": {
      "image/png": "[encoded data removed]",
      "text/plain": [
       "<Figure size 360x360 with 2 Axes>"
      ]
     },
     "metadata": {
      "image/png": {
       "height": 345,
       "width": 331
      },
      "needs_background": "light"
     },
     "output_type": "display_data"
    },
    {
     "name": "stdout",
     "output_type": "stream",
     "text": [
      "\n",
      "\n"
     ]
    }
   ],
   "source": [
    "# Confusion Matrix\n",
    "\n",
    "logreg_cm = confusion_matrix(y_test, y_predict1)\n",
    "f, ax = plt.subplots(figsize=(5,5))\n",
    "sns.heatmap(logreg_cm, annot=True, linewidth=0.7, linecolor='cyan', fmt='g', ax=ax, cmap=\"YlGnBu\")\n",
    "plt.title('Logistic Regression Classification Confusion Matrix\\n')\n",
    "plt.xlabel('y predict')\n",
    "plt.ylabel('y test')\n",
    "print('\\n')\n",
    "plt.show()\n",
    "print('\\n')"
   ]
  },
  {
   "attachments": {},
   "cell_type": "markdown",
   "id": "a8042274",
   "metadata": {
    "papermill": {
     "duration": 0.033865,
     "end_time": "2023-01-09T16:20:37.671443",
     "exception": false,
     "start_time": "2023-01-09T16:20:37.637578",
     "status": "completed"
    },
    "tags": []
   },
   "source": [
    "**Test Score**"
   ]
  },
  {
   "cell_type": "code",
   "execution_count": 24,
   "id": "cd41a7aa",
   "metadata": {
    "execution": {
     "iopub.execute_input": "2023-01-09T16:20:37.741946Z",
     "iopub.status.busy": "2023-01-09T16:20:37.741497Z",
     "iopub.status.idle": "2023-01-09T16:20:37.749244Z",
     "shell.execute_reply": "2023-01-09T16:20:37.747500Z"
    },
    "papermill": {
     "duration": 0.04614,
     "end_time": "2023-01-09T16:20:37.751743",
     "exception": false,
     "start_time": "2023-01-09T16:20:37.705603",
     "status": "completed"
    },
    "tags": []
   },
   "outputs": [
    {
     "name": "stdout",
     "output_type": "stream",
     "text": [
      "\n",
      "\n",
      "Logistic Regression Score =  1.0\n",
      "\n",
      "\n"
     ]
    }
   ],
   "source": [
    "# Test Score\n",
    "\n",
    "print('\\n')\n",
    "score_logreg = logreg.score(X_test_scaled, y_test)\n",
    "print('Logistic Regression Score = ',score_logreg)\n",
    "print('\\n')"
   ]
  },
  {
   "cell_type": "code",
   "execution_count": 25,
   "id": "7f2367f2",
   "metadata": {
    "execution": {
     "iopub.execute_input": "2023-01-09T16:20:37.823218Z",
     "iopub.status.busy": "2023-01-09T16:20:37.821587Z",
     "iopub.status.idle": "2023-01-09T16:20:37.833327Z",
     "shell.execute_reply": "2023-01-09T16:20:37.831737Z"
    },
    "papermill": {
     "duration": 0.049956,
     "end_time": "2023-01-09T16:20:37.835761",
     "exception": false,
     "start_time": "2023-01-09T16:20:37.785805",
     "status": "completed"
    },
    "tags": []
   },
   "outputs": [
    {
     "name": "stdout",
     "output_type": "stream",
     "text": [
      "\n",
      "Classification Report for Logistic Regression\n",
      "\n",
      "              precision    recall  f1-score   support\n",
      "\n",
      "           0       1.00      1.00      1.00       130\n",
      "           1       1.00      1.00      1.00       124\n",
      "           2       1.00      1.00      1.00       147\n",
      "\n",
      "    accuracy                           1.00       401\n",
      "   macro avg       1.00      1.00      1.00       401\n",
      "weighted avg       1.00      1.00      1.00       401\n",
      "\n",
      "\n",
      "\n"
     ]
    }
   ],
   "source": [
    "# Classification Report\n",
    "\n",
    "print('\\nClassification Report for Logistic Regression\\n')\n",
    "print(classification_report(y_test, y_predict1))\n",
    "print('\\n')"
   ]
  },
  {
   "attachments": {},
   "cell_type": "markdown",
   "id": "d11d6228",
   "metadata": {
    "papermill": {
     "duration": 0.034334,
     "end_time": "2023-01-09T16:20:37.905646",
     "exception": false,
     "start_time": "2023-01-09T16:20:37.871312",
     "status": "completed"
    },
    "tags": []
   },
   "source": [
    "# **Gaussian Naive Bayes**"
   ]
  },
  {
   "cell_type": "code",
   "execution_count": 26,
   "id": "5e6ccb6a",
   "metadata": {
    "execution": {
     "iopub.execute_input": "2023-01-09T16:20:37.977683Z",
     "iopub.status.busy": "2023-01-09T16:20:37.977229Z",
     "iopub.status.idle": "2023-01-09T16:20:37.986518Z",
     "shell.execute_reply": "2023-01-09T16:20:37.985110Z"
    },
    "papermill": {
     "duration": 0.048732,
     "end_time": "2023-01-09T16:20:37.989411",
     "exception": false,
     "start_time": "2023-01-09T16:20:37.940679",
     "status": "completed"
    },
    "tags": []
   },
   "outputs": [],
   "source": [
    "# Gaussian Naive Bayes\n",
    "\n",
    "nbcla = GaussianNB()\n",
    "\n",
    "nbcla.fit(X_train_scaled, y_train)\n",
    "\n",
    "y_predict2 = nbcla.predict(X_test_scaled)"
   ]
  },
  {
   "attachments": {},
   "cell_type": "markdown",
   "id": "d2f3ff9d",
   "metadata": {
    "papermill": {
     "duration": 0.03383,
     "end_time": "2023-01-09T16:20:38.057715",
     "exception": false,
     "start_time": "2023-01-09T16:20:38.023885",
     "status": "completed"
    },
    "tags": []
   },
   "source": [
    "**Confusion Matrix**"
   ]
  },
  {
   "cell_type": "code",
   "execution_count": 27,
   "id": "c7450976",
   "metadata": {
    "execution": {
     "iopub.execute_input": "2023-01-09T16:20:38.129019Z",
     "iopub.status.busy": "2023-01-09T16:20:38.128218Z",
     "iopub.status.idle": "2023-01-09T16:20:38.450764Z",
     "shell.execute_reply": "2023-01-09T16:20:38.449616Z"
    },
    "papermill": {
     "duration": 0.361857,
     "end_time": "2023-01-09T16:20:38.453914",
     "exception": false,
     "start_time": "2023-01-09T16:20:38.092057",
     "status": "completed"
    },
    "tags": []
   },
   "outputs": [
    {
     "name": "stdout",
     "output_type": "stream",
     "text": [
      "\n",
      "\n"
     ]
    },
    {
     "data": {
      "image/png": "[encoded data removed]",
      "text/plain": [
       "<Figure size 360x360 with 2 Axes>"
      ]
     },
     "metadata": {
      "image/png": {
       "height": 345,
       "width": 340
      },
      "needs_background": "light"
     },
     "output_type": "display_data"
    },
    {
     "name": "stdout",
     "output_type": "stream",
     "text": [
      "\n",
      "\n"
     ]
    }
   ],
   "source": [
    "# Confusion Matrix\n",
    "\n",
    "nbcla_cm = confusion_matrix(y_test, y_predict2)\n",
    "f, ax = plt.subplots(figsize=(5,5))\n",
    "sns.heatmap(nbcla_cm, annot=True, linewidth=0.7, linecolor='cyan', fmt='g', ax=ax, cmap=\"YlGnBu\")\n",
    "plt.title('Gaussian Naive Bayes Classification Confusion Matrix\\n')\n",
    "plt.xlabel('y predict')\n",
    "plt.ylabel('y test')\n",
    "print('\\n')\n",
    "plt.show()\n",
    "print('\\n')"
   ]
  },
  {
   "attachments": {},
   "cell_type": "markdown",
   "id": "3ad4564a",
   "metadata": {
    "papermill": {
     "duration": 0.035776,
     "end_time": "2023-01-09T16:20:38.525789",
     "exception": false,
     "start_time": "2023-01-09T16:20:38.490013",
     "status": "completed"
    },
    "tags": []
   },
   "source": [
    "**Test Score**"
   ]
  },
  {
   "cell_type": "code",
   "execution_count": 28,
   "id": "4847df30",
   "metadata": {
    "execution": {
     "iopub.execute_input": "2023-01-09T16:20:38.600052Z",
     "iopub.status.busy": "2023-01-09T16:20:38.598935Z",
     "iopub.status.idle": "2023-01-09T16:20:38.606956Z",
     "shell.execute_reply": "2023-01-09T16:20:38.605537Z"
    },
    "papermill": {
     "duration": 0.047982,
     "end_time": "2023-01-09T16:20:38.609598",
     "exception": false,
     "start_time": "2023-01-09T16:20:38.561616",
     "status": "completed"
    },
    "tags": []
   },
   "outputs": [
    {
     "name": "stdout",
     "output_type": "stream",
     "text": [
      "\n",
      "\n",
      "Gaussian Naive Bayes Score =  0.8902743142144638\n",
      "\n",
      "\n"
     ]
    }
   ],
   "source": [
    "# Test Score\n",
    "\n",
    "print('\\n')\n",
    "score_nbcla = nbcla.score(X_test_scaled, y_test)\n",
    "print('Gaussian Naive Bayes Score = ',score_nbcla)\n",
    "print('\\n')"
   ]
  },
  {
   "cell_type": "code",
   "execution_count": 29,
   "id": "8289e502",
   "metadata": {
    "execution": {
     "iopub.execute_input": "2023-01-09T16:20:38.683051Z",
     "iopub.status.busy": "2023-01-09T16:20:38.682244Z",
     "iopub.status.idle": "2023-01-09T16:20:38.693549Z",
     "shell.execute_reply": "2023-01-09T16:20:38.692090Z"
    },
    "papermill": {
     "duration": 0.051822,
     "end_time": "2023-01-09T16:20:38.696628",
     "exception": false,
     "start_time": "2023-01-09T16:20:38.644806",
     "status": "completed"
    },
    "tags": []
   },
   "outputs": [
    {
     "name": "stdout",
     "output_type": "stream",
     "text": [
      "\n",
      "Classification Report for Gaussian Naive Bayes\n",
      "\n",
      "              precision    recall  f1-score   support\n",
      "\n",
      "           0       1.00      0.89      0.94       130\n",
      "           1       0.88      0.79      0.83       124\n",
      "           2       0.82      0.97      0.89       147\n",
      "\n",
      "    accuracy                           0.89       401\n",
      "   macro avg       0.90      0.89      0.89       401\n",
      "weighted avg       0.90      0.89      0.89       401\n",
      "\n",
      "\n",
      "\n"
     ]
    }
   ],
   "source": [
    "# Classification Report\n",
    "\n",
    "print('\\nClassification Report for Gaussian Naive Bayes\\n')\n",
    "print(classification_report(y_test, y_predict2))\n",
    "print('\\n')"
   ]
  },
  {
   "attachments": {},
   "cell_type": "markdown",
   "id": "b5f4c749",
   "metadata": {
    "papermill": {
     "duration": 0.034876,
     "end_time": "2023-01-09T16:20:38.767680",
     "exception": false,
     "start_time": "2023-01-09T16:20:38.732804",
     "status": "completed"
    },
    "tags": []
   },
   "source": [
    "# **Decision Tree**"
   ]
  },
  {
   "cell_type": "code",
   "execution_count": 30,
   "id": "e75642d8",
   "metadata": {
    "execution": {
     "iopub.execute_input": "2023-01-09T16:20:38.842144Z",
     "iopub.status.busy": "2023-01-09T16:20:38.840900Z",
     "iopub.status.idle": "2023-01-09T16:20:38.849533Z",
     "shell.execute_reply": "2023-01-09T16:20:38.848494Z"
    },
    "papermill": {
     "duration": 0.049097,
     "end_time": "2023-01-09T16:20:38.852278",
     "exception": false,
     "start_time": "2023-01-09T16:20:38.803181",
     "status": "completed"
    },
    "tags": []
   },
   "outputs": [],
   "source": [
    "# Decision Tree\n",
    "\n",
    "dtcla = DecisionTreeClassifier(random_state=9)\n",
    "\n",
    "dtcla.fit(X_train_scaled, y_train)\n",
    "\n",
    "y_predict3 = dtcla.predict(X_test_scaled)"
   ]
  },
  {
   "attachments": {},
   "cell_type": "markdown",
   "id": "a7767ddf",
   "metadata": {
    "papermill": {
     "duration": 0.03569,
     "end_time": "2023-01-09T16:20:38.923338",
     "exception": false,
     "start_time": "2023-01-09T16:20:38.887648",
     "status": "completed"
    },
    "tags": []
   },
   "source": [
    "**Confusion Matrix**"
   ]
  },
  {
   "cell_type": "code",
   "execution_count": 31,
   "id": "d23761f4",
   "metadata": {
    "execution": {
     "iopub.execute_input": "2023-01-09T16:20:38.996582Z",
     "iopub.status.busy": "2023-01-09T16:20:38.996089Z",
     "iopub.status.idle": "2023-01-09T16:20:39.317310Z",
     "shell.execute_reply": "2023-01-09T16:20:39.316334Z"
    },
    "papermill": {
     "duration": 0.362574,
     "end_time": "2023-01-09T16:20:39.321557",
     "exception": false,
     "start_time": "2023-01-09T16:20:38.958983",
     "status": "completed"
    },
    "tags": []
   },
   "outputs": [
    {
     "name": "stdout",
     "output_type": "stream",
     "text": [
      "\n",
      "\n"
     ]
    },
    {
     "data": {
      "image/png": "[encoded data removed]",
      "text/plain": [
       "<Figure size 360x360 with 2 Axes>"
      ]
     },
     "metadata": {
      "image/png": {
       "height": 345,
       "width": 321
      },
      "needs_background": "light"
     },
     "output_type": "display_data"
    },
    {
     "name": "stdout",
     "output_type": "stream",
     "text": [
      "\n",
      "\n"
     ]
    }
   ],
   "source": [
    "# Confusion Matrix\n",
    "\n",
    "dtcla_cm = confusion_matrix(y_test, y_predict3)\n",
    "f, ax = plt.subplots(figsize=(5,5))\n",
    "sns.heatmap(dtcla_cm, annot=True, linewidth=0.7, linecolor='cyan', fmt='g', ax=ax, cmap=\"YlGnBu\")\n",
    "plt.title('Decision Tree Classification Confusion Matrix\\n')\n",
    "plt.xlabel('y predict')\n",
    "plt.ylabel('y test')\n",
    "print('\\n')\n",
    "plt.show()\n",
    "print('\\n')"
   ]
  },
  {
   "attachments": {},
   "cell_type": "markdown",
   "id": "b6d2dad3",
   "metadata": {
    "papermill": {
     "duration": 0.03598,
     "end_time": "2023-01-09T16:20:39.394727",
     "exception": false,
     "start_time": "2023-01-09T16:20:39.358747",
     "status": "completed"
    },
    "tags": []
   },
   "source": [
    "**Test Score**"
   ]
  },
  {
   "cell_type": "code",
   "execution_count": 32,
   "id": "00e6c0ef",
   "metadata": {
    "execution": {
     "iopub.execute_input": "2023-01-09T16:20:39.469243Z",
     "iopub.status.busy": "2023-01-09T16:20:39.467964Z",
     "iopub.status.idle": "2023-01-09T16:20:39.477170Z",
     "shell.execute_reply": "2023-01-09T16:20:39.475538Z"
    },
    "papermill": {
     "duration": 0.049773,
     "end_time": "2023-01-09T16:20:39.480338",
     "exception": false,
     "start_time": "2023-01-09T16:20:39.430565",
     "status": "completed"
    },
    "tags": []
   },
   "outputs": [
    {
     "name": "stdout",
     "output_type": "stream",
     "text": [
      "\n",
      "\n",
      "Decision Tree Score =  1.0\n",
      "\n",
      "\n"
     ]
    }
   ],
   "source": [
    "# Test Score\n",
    "print('\\n')\n",
    "score_dtcla = dtcla.score(X_test_scaled, y_test)\n",
    "print('Decision Tree Score = ', score_dtcla)\n",
    "print('\\n')"
   ]
  },
  {
   "cell_type": "code",
   "execution_count": 33,
   "id": "65533e78",
   "metadata": {
    "execution": {
     "iopub.execute_input": "2023-01-09T16:20:39.555520Z",
     "iopub.status.busy": "2023-01-09T16:20:39.554999Z",
     "iopub.status.idle": "2023-01-09T16:20:39.567013Z",
     "shell.execute_reply": "2023-01-09T16:20:39.565464Z"
    },
    "papermill": {
     "duration": 0.052841,
     "end_time": "2023-01-09T16:20:39.570220",
     "exception": false,
     "start_time": "2023-01-09T16:20:39.517379",
     "status": "completed"
    },
    "tags": []
   },
   "outputs": [
    {
     "name": "stdout",
     "output_type": "stream",
     "text": [
      "\n",
      "\t\t\tClassification Tree for Decision Tree\n",
      "\n",
      "              precision    recall  f1-score   support\n",
      "\n",
      "           0       1.00      1.00      1.00       130\n",
      "           1       1.00      1.00      1.00       124\n",
      "           2       1.00      1.00      1.00       147\n",
      "\n",
      "    accuracy                           1.00       401\n",
      "   macro avg       1.00      1.00      1.00       401\n",
      "weighted avg       1.00      1.00      1.00       401\n",
      "\n",
      "\n",
      "\n"
     ]
    }
   ],
   "source": [
    "# Classification Report\n",
    "print('\\n\\t\\t\\tClassification Tree for Decision Tree\\n')\n",
    "print(classification_report(y_test, y_predict3))\n",
    "print('\\n')"
   ]
  },
  {
   "attachments": {},
   "cell_type": "markdown",
   "id": "b1b9b9b1",
   "metadata": {},
   "source": [
    "### KNN"
   ]
  },
  {
   "attachments": {},
   "cell_type": "markdown",
   "id": "daf7fb09",
   "metadata": {},
   "source": [
    "Find Best K"
   ]
  },
  {
   "cell_type": "code",
   "execution_count": 34,
   "id": "96e18588",
   "metadata": {},
   "outputs": [
    {
     "data": {
      "text/plain": [
       "Text(0, 0.5, 'Accuracy')"
      ]
     },
     "execution_count": 34,
     "metadata": {},
     "output_type": "execute_result"
    },
    {
     "data": {
      "image/png": "[encoded data removed]",
      "text/plain": [
       "<Figure size 432x288 with 1 Axes>"
      ]
     },
     "metadata": {
      "image/png": {
       "height": 261,
       "width": 398
      },
      "needs_background": "light"
     },
     "output_type": "display_data"
    }
   ],
   "source": [
    "from sklearn.model_selection import cross_val_score\n",
    "\n",
    "k_values = [i for i in range (1,31)]\n",
    "scores = []\n",
    "\n",
    "for k in k_values:\n",
    "    knn = KNeighborsClassifier(n_neighbors=k)\n",
    "    score = cross_val_score(knn, scaler.fit_transform(X), y, cv=5)\n",
    "    scores.append(np.mean(score))\n",
    "\n",
    "sns.lineplot(x = k_values, y = scores, marker = 'o')\n",
    "plt.xlabel(\"K\")\n",
    "plt.ylabel(\"Accuracy\")"
   ]
  },
  {
   "cell_type": "code",
   "execution_count": 35,
   "id": "428b8fa1",
   "metadata": {},
   "outputs": [
    {
     "name": "stdout",
     "output_type": "stream",
     "text": [
      "KNN Score =  1.0\n",
      "\n",
      "\n",
      "              precision    recall  f1-score   support\n",
      "\n",
      "           0       1.00      1.00      1.00       130\n",
      "           1       1.00      1.00      1.00       124\n",
      "           2       1.00      1.00      1.00       147\n",
      "\n",
      "    accuracy                           1.00       401\n",
      "   macro avg       1.00      1.00      1.00       401\n",
      "weighted avg       1.00      1.00      1.00       401\n",
      "\n"
     ]
    }
   ],
   "source": [
    "model_knn = KNeighborsClassifier()\n",
    "model_knn.fit(X_train_scaled , y_train)\n",
    "score_knn = model_knn.score(X_test_scaled, y_test)\n",
    "print('KNN Score = ', score_knn)\n",
    "print('\\n')\n",
    "\n",
    "print(classification_report(y_test, model_knn.predict(X_test_scaled)))"
   ]
  },
  {
   "attachments": {},
   "cell_type": "markdown",
   "id": "6d233948",
   "metadata": {
    "papermill": {
     "duration": 0.035824,
     "end_time": "2023-01-09T16:20:39.643078",
     "exception": false,
     "start_time": "2023-01-09T16:20:39.607254",
     "status": "completed"
    },
    "tags": []
   },
   "source": [
    "# **All Test Scores**"
   ]
  },
  {
   "cell_type": "code",
   "execution_count": 36,
   "id": "e41b9ec5",
   "metadata": {
    "execution": {
     "iopub.execute_input": "2023-01-09T16:20:39.717853Z",
     "iopub.status.busy": "2023-01-09T16:20:39.717396Z",
     "iopub.status.idle": "2023-01-09T16:20:39.725939Z",
     "shell.execute_reply": "2023-01-09T16:20:39.724587Z"
    },
    "papermill": {
     "duration": 0.050384,
     "end_time": "2023-01-09T16:20:39.729756",
     "exception": false,
     "start_time": "2023-01-09T16:20:39.679372",
     "status": "completed"
    },
    "tags": []
   },
   "outputs": [
    {
     "name": "stdout",
     "output_type": "stream",
     "text": [
      "\n",
      "\n",
      "Logistic Regression Score =     1.000000\n",
      "Naive Bayes Score =             0.890274\n",
      "Decision Tree Score =           1.000000\n",
      "KNN Score =                     1.000000\n",
      "dtype: float64\n",
      "\n",
      "\n"
     ]
    }
   ],
   "source": [
    "# All Test Scores\n",
    "\n",
    "print('\\n')\n",
    "Testscores = pd.Series([score_logreg, score_nbcla, score_dtcla, score_knn], \n",
    "                        index=['Logistic Regression Score = ', 'Naive Bayes Score = ', 'Decision Tree Score = ', 'KNN Score = ']) \n",
    "print(Testscores)\n",
    "print('\\n')"
   ]
  },
  {
   "attachments": {},
   "cell_type": "markdown",
   "id": "eb3de510",
   "metadata": {
    "papermill": {
     "duration": 0.035505,
     "end_time": "2023-01-09T16:20:39.801223",
     "exception": false,
     "start_time": "2023-01-09T16:20:39.765718",
     "status": "completed"
    },
    "tags": []
   },
   "source": [
    "# **All Confusion Matrices**"
   ]
  },
  {
   "cell_type": "code",
   "execution_count": 37,
   "id": "e8378517",
   "metadata": {
    "execution": {
     "iopub.execute_input": "2023-01-09T16:20:39.875380Z",
     "iopub.status.busy": "2023-01-09T16:20:39.874511Z",
     "iopub.status.idle": "2023-01-09T16:20:40.799759Z",
     "shell.execute_reply": "2023-01-09T16:20:40.798228Z"
    },
    "papermill": {
     "duration": 0.96571,
     "end_time": "2023-01-09T16:20:40.802709",
     "exception": false,
     "start_time": "2023-01-09T16:20:39.836999",
     "status": "completed"
    },
    "tags": []
   },
   "outputs": [
    {
     "name": "stdout",
     "output_type": "stream",
     "text": [
      "\n",
      "\n"
     ]
    },
    {
     "data": {
      "image/png": "[encoded data removed]",
      "text/plain": [
       "<Figure size 1440x1080 with 6 Axes>"
      ]
     },
     "metadata": {
      "image/png": {
       "height": 300,
       "width": 1135
      },
      "needs_background": "light"
     },
     "output_type": "display_data"
    },
    {
     "name": "stdout",
     "output_type": "stream",
     "text": [
      "\n",
      "\n"
     ]
    }
   ],
   "source": [
    "# All Confusion Matrices\n",
    "\n",
    "print('\\n')\n",
    "fig = plt.figure(figsize=(20,15))\n",
    "ax1 = fig.add_subplot(3, 3, 1) \n",
    "ax1.set_title('Logistic Regression Classification\\n') \n",
    "ax2 = fig.add_subplot(3, 3, 2)\n",
    "ax2.set_title('Naive Bayes Classification\\n')\n",
    "ax3 = fig.add_subplot(3, 3, 3)\n",
    "ax3.set_title('Decision Tree Classification\\n')\n",
    "\n",
    "sns.heatmap(data=logreg_cm, annot=True, linewidth=0.7, linecolor='cyan',cmap=\"YlGnBu\" ,fmt='g', ax=ax1)\n",
    "sns.heatmap(data=nbcla_cm, annot=True, linewidth=0.7, linecolor='cyan',cmap=\"YlGnBu\" ,fmt='g', ax=ax2)\n",
    "sns.heatmap(data=dtcla_cm, annot=True, linewidth=0.7, linecolor='cyan',cmap=\"YlGnBu\" ,fmt='g', ax=ax3)\n",
    "\n",
    "plt.show()\n",
    "print('\\n')"
   ]
  },
  {
   "attachments": {},
   "cell_type": "markdown",
   "id": "31ca03b2",
   "metadata": {
    "papermill": {
     "duration": 0.036428,
     "end_time": "2023-01-09T16:20:40.876656",
     "exception": false,
     "start_time": "2023-01-09T16:20:40.840228",
     "status": "completed"
    },
    "tags": []
   },
   "source": [
    "# **Comparison**"
   ]
  },
  {
   "cell_type": "code",
   "execution_count": 38,
   "id": "5d28739b",
   "metadata": {
    "execution": {
     "iopub.execute_input": "2023-01-09T16:20:40.954547Z",
     "iopub.status.busy": "2023-01-09T16:20:40.953731Z",
     "iopub.status.idle": "2023-01-09T16:20:40.959330Z",
     "shell.execute_reply": "2023-01-09T16:20:40.958359Z"
    },
    "papermill": {
     "duration": 0.047338,
     "end_time": "2023-01-09T16:20:40.961735",
     "exception": false,
     "start_time": "2023-01-09T16:20:40.914397",
     "status": "completed"
    },
    "tags": []
   },
   "outputs": [],
   "source": [
    "# Comparison of Algorithms\n",
    "\n",
    "x=['Logistic Regression', 'G. Naive Bayes', 'Decision Tree', 'KNN']\n",
    "y = [score_logreg, score_nbcla, score_dtcla, score_knn]"
   ]
  },
  {
   "cell_type": "code",
   "execution_count": 39,
   "id": "bf88f920",
   "metadata": {
    "execution": {
     "iopub.execute_input": "2023-01-09T16:20:41.039771Z",
     "iopub.status.busy": "2023-01-09T16:20:41.038390Z",
     "iopub.status.idle": "2023-01-09T16:20:41.255009Z",
     "shell.execute_reply": "2023-01-09T16:20:41.253598Z"
    },
    "papermill": {
     "duration": 0.259846,
     "end_time": "2023-01-09T16:20:41.259281",
     "exception": false,
     "start_time": "2023-01-09T16:20:40.999435",
     "status": "completed"
    },
    "tags": []
   },
   "outputs": [
    {
     "name": "stdout",
     "output_type": "stream",
     "text": [
      "\n",
      "\n"
     ]
    },
    {
     "data": {
      "image/png": "[encoded data removed]",
      "text/plain": [
       "<Figure size 432x288 with 1 Axes>"
      ]
     },
     "metadata": {
      "image/png": {
       "height": 302,
       "width": 396
      },
      "needs_background": "light"
     },
     "output_type": "display_data"
    },
    {
     "name": "stdout",
     "output_type": "stream",
     "text": [
      "\n",
      "\n"
     ]
    }
   ],
   "source": [
    "# Bar Plot\n",
    "\n",
    "print('\\n')\n",
    "plt.bar(x,y)\n",
    "plt.xlabel('\\nClassification Algorithms')\n",
    "plt.ylabel(\"Scores\\n\")\n",
    "plt.title('Classification Algorithms Score Comparison Bar Plot\\n')\n",
    "plt.show()\n",
    "print('\\n')"
   ]
  },
  {
   "attachments": {},
   "cell_type": "markdown",
   "id": "56aaa326",
   "metadata": {},
   "source": [
    "# **Clustering**"
   ]
  },
  {
   "cell_type": "code",
   "execution_count": 40,
   "id": "3c4acfdf",
   "metadata": {},
   "outputs": [
    {
     "name": "stderr",
     "output_type": "stream",
     "text": [
      "c:\\Program Files\\Python39\\lib\\site-packages\\plotly\\express\\_core.py:271: FutureWarning: The frame.append method is deprecated and will be removed from pandas in a future version. Use pandas.concat instead.\n",
      "  trace_data = trace_data.append(trace_data.iloc[0])\n",
      "c:\\Program Files\\Python39\\lib\\site-packages\\plotly\\express\\_core.py:271: FutureWarning: The frame.append method is deprecated and will be removed from pandas in a future version. Use pandas.concat instead.\n",
      "  trace_data = trace_data.append(trace_data.iloc[0])\n",
      "c:\\Program Files\\Python39\\lib\\site-packages\\plotly\\express\\_core.py:271: FutureWarning: The frame.append method is deprecated and will be removed from pandas in a future version. Use pandas.concat instead.\n",
      "  trace_data = trace_data.append(trace_data.iloc[0])\n"
     ]
    },
    {
     "data": {
      "application/vnd.plotly.v1+json": {
       "config": {
        "plotlyServerURL": "https://plot.ly"
       },
       "data": [
        {
         "hovertemplate": "label=0<br>value=%{r}<br>variable=%{theta}<extra></extra>",
         "legendgroup": "0",
         "line": {
          "color": "#636efa",
          "dash": "solid"
         },
         "marker": {
          "symbol": "circle"
         },
         "mode": "lines",
         "name": "0",
         "r": [
          0.38653107344632764,
          0.264,
          0.6182857142857142,
          0.8411428571428572,
          0.8190476190476191,
          0.8304761904761905,
          0.9386666666666666,
          0.8586666666666667,
          0.9515555555555555,
          0.8817777777777777,
          0.7817142857142858,
          0.8068571428571428,
          0.756,
          0.7633333333333333,
          0.435,
          0.3527619047619047,
          0.42333333333333334,
          0.4354285714285714,
          0.4662857142857143,
          0.36033333333333334,
          0.43288888888888893,
          0.4924444444444444,
          0.37466666666666665,
          0.38653107344632764
         ],
         "showlegend": true,
         "subplot": "polar",
         "theta": [
          "age",
          "gender",
          "air_pollution",
          "alcohol_use",
          "dust_allergy",
          "occupational_hazards",
          "genetic_risk",
          "chronic_lung_disease",
          "balanced_diet",
          "obesity",
          "smoking",
          "passive_smoker",
          "chest_pain",
          "coughing_of_blood",
          "fatigue",
          "weight_loss",
          "shortness_of_breath",
          "wheezing",
          "swallowing_difficulty",
          "clubbing_of_finger_nails",
          "frequent_cold",
          "dry_cough",
          "snoring",
          "age"
         ],
         "type": "scatterpolar"
        },
        {
         "hovertemplate": "label=1<br>value=%{r}<br>variable=%{theta}<extra></extra>",
         "legendgroup": "1",
         "line": {
          "color": "#EF553B",
          "dash": "solid"
         },
         "marker": {
          "symbol": "circle"
         },
         "mode": "lines",
         "name": "1",
         "r": [
          0.36833495025585417,
          0.5050505050505051,
          0.1948051948051948,
          0.13035113035113036,
          0.3293249959916626,
          0.2538079204745871,
          0.250280583613917,
          0.3062102506546951,
          0.28077066965955855,
          0.2890011223344557,
          0.22671156004489337,
          0.23969857303190634,
          0.19935465768799102,
          0.2498597081930415,
          0.24186307519640854,
          0.3112073112073112,
          0.2302188552188552,
          0.3477633477633477,
          0.43706910373577035,
          0.21941638608305275,
          0.3338945005611672,
          0.33146277590722034,
          0.3047138047138047,
          0.36833495025585417
         ],
         "showlegend": true,
         "subplot": "polar",
         "theta": [
          "age",
          "gender",
          "air_pollution",
          "alcohol_use",
          "dust_allergy",
          "occupational_hazards",
          "genetic_risk",
          "chronic_lung_disease",
          "balanced_diet",
          "obesity",
          "smoking",
          "passive_smoker",
          "chest_pain",
          "coughing_of_blood",
          "fatigue",
          "weight_loss",
          "shortness_of_breath",
          "wheezing",
          "swallowing_difficulty",
          "clubbing_of_finger_nails",
          "frequent_cold",
          "dry_cough",
          "snoring",
          "age"
         ],
         "type": "scatterpolar"
        },
        {
         "hovertemplate": "label=2<br>value=%{r}<br>variable=%{theta}<extra></extra>",
         "legendgroup": "2",
         "line": {
          "color": "#00cc96",
          "dash": "solid"
         },
         "marker": {
          "symbol": "circle"
         },
         "mode": "lines",
         "name": "2",
         "r": [
          0.4661016949152542,
          0.43333333333333335,
          0.48412698412698413,
          0.7539682539682541,
          0.7857142857142857,
          0.6904761904761905,
          0.7407407407407406,
          0.5833333333333334,
          0.5555555555555556,
          0.6574074074074073,
          0.15079365079365079,
          0.26190476190476186,
          0.3194444444444444,
          0.4722222222222222,
          0.4791666666666667,
          0.7619047619047619,
          0.7986111111111112,
          0.4365079365079365,
          0.12698412698412698,
          0.7361111111111112,
          0.6203703703703703,
          0.7962962962962962,
          0.25,
          0.4661016949152542
         ],
         "showlegend": true,
         "subplot": "polar",
         "theta": [
          "age",
          "gender",
          "air_pollution",
          "alcohol_use",
          "dust_allergy",
          "occupational_hazards",
          "genetic_risk",
          "chronic_lung_disease",
          "balanced_diet",
          "obesity",
          "smoking",
          "passive_smoker",
          "chest_pain",
          "coughing_of_blood",
          "fatigue",
          "weight_loss",
          "shortness_of_breath",
          "wheezing",
          "swallowing_difficulty",
          "clubbing_of_finger_nails",
          "frequent_cold",
          "dry_cough",
          "snoring",
          "age"
         ],
         "type": "scatterpolar"
        }
       ],
       "layout": {
        "height": 600,
        "legend": {
         "title": {
          "text": "label"
         },
         "tracegroupgap": 0
        },
        "margin": {
         "t": 60
        },
        "polar": {
         "angularaxis": {
          "direction": "clockwise",
          "rotation": 90
         },
         "domain": {
          "x": [
           0,
           1
          ],
          "y": [
           0,
           1
          ]
         }
        },
        "template": {
         "data": {
          "bar": [
           {
            "error_x": {
             "color": "#2a3f5f"
            },
            "error_y": {
             "color": "#2a3f5f"
            },
            "marker": {
             "line": {
              "color": "#E5ECF6",
              "width": 0.5
             },
             "pattern": {
              "fillmode": "overlay",
              "size": 10,
              "solidity": 0.2
             }
            },
            "type": "bar"
           }
          ],
          "barpolar": [
           {
            "marker": {
             "line": {
              "color": "#E5ECF6",
              "width": 0.5
             },
             "pattern": {
              "fillmode": "overlay",
              "size": 10,
              "solidity": 0.2
             }
            },
            "type": "barpolar"
           }
          ],
          "carpet": [
           {
            "aaxis": {
             "endlinecolor": "#2a3f5f",
             "gridcolor": "white",
             "linecolor": "white",
             "minorgridcolor": "white",
             "startlinecolor": "#2a3f5f"
            },
            "baxis": {
             "endlinecolor": "#2a3f5f",
             "gridcolor": "white",
             "linecolor": "white",
             "minorgridcolor": "white",
             "startlinecolor": "#2a3f5f"
            },
            "type": "carpet"
           }
          ],
          "choropleth": [
           {
            "colorbar": {
             "outlinewidth": 0,
             "ticks": ""
            },
            "type": "choropleth"
           }
          ],
          "contour": [
           {
            "colorbar": {
             "outlinewidth": 0,
             "ticks": ""
            },
            "colorscale": [
             [
              0,
              "#0d0887"
             ],
             [
              0.1111111111111111,
              "#46039f"
             ],
             [
              0.2222222222222222,
              "#7201a8"
             ],
             [
              0.3333333333333333,
              "#9c179e"
             ],
             [
              0.4444444444444444,
              "#bd3786"
             ],
             [
              0.5555555555555556,
              "#d8576b"
             ],
             [
              0.6666666666666666,
              "#ed7953"
             ],
             [
              0.7777777777777778,
              "#fb9f3a"
             ],
             [
              0.8888888888888888,
              "#fdca26"
             ],
             [
              1,
              "#f0f921"
             ]
            ],
            "type": "contour"
           }
          ],
          "contourcarpet": [
           {
            "colorbar": {
             "outlinewidth": 0,
             "ticks": ""
            },
            "type": "contourcarpet"
           }
          ],
          "heatmap": [
           {
            "colorbar": {
             "outlinewidth": 0,
             "ticks": ""
            },
            "colorscale": [
             [
              0,
              "#0d0887"
             ],
             [
              0.1111111111111111,
              "#46039f"
             ],
             [
              0.2222222222222222,
              "#7201a8"
             ],
             [
              0.3333333333333333,
              "#9c179e"
             ],
             [
              0.4444444444444444,
              "#bd3786"
             ],
             [
              0.5555555555555556,
              "#d8576b"
             ],
             [
              0.6666666666666666,
              "#ed7953"
             ],
             [
              0.7777777777777778,
              "#fb9f3a"
             ],
             [
              0.8888888888888888,
              "#fdca26"
             ],
             [
              1,
              "#f0f921"
             ]
            ],
            "type": "heatmap"
           }
          ],
          "heatmapgl": [
           {
            "colorbar": {
             "outlinewidth": 0,
             "ticks": ""
            },
            "colorscale": [
             [
              0,
              "#0d0887"
             ],
             [
              0.1111111111111111,
              "#46039f"
             ],
             [
              0.2222222222222222,
              "#7201a8"
             ],
             [
              0.3333333333333333,
              "#9c179e"
             ],
             [
              0.4444444444444444,
              "#bd3786"
             ],
             [
              0.5555555555555556,
              "#d8576b"
             ],
             [
              0.6666666666666666,
              "#ed7953"
             ],
             [
              0.7777777777777778,
              "#fb9f3a"
             ],
             [
              0.8888888888888888,
              "#fdca26"
             ],
             [
              1,
              "#f0f921"
             ]
            ],
            "type": "heatmapgl"
           }
          ],
          "histogram": [
           {
            "marker": {
             "pattern": {
              "fillmode": "overlay",
              "size": 10,
              "solidity": 0.2
             }
            },
            "type": "histogram"
           }
          ],
          "histogram2d": [
           {
            "colorbar": {
             "outlinewidth": 0,
             "ticks": ""
            },
            "colorscale": [
             [
              0,
              "#0d0887"
             ],
             [
              0.1111111111111111,
              "#46039f"
             ],
             [
              0.2222222222222222,
              "#7201a8"
             ],
             [
              0.3333333333333333,
              "#9c179e"
             ],
             [
              0.4444444444444444,
              "#bd3786"
             ],
             [
              0.5555555555555556,
              "#d8576b"
             ],
             [
              0.6666666666666666,
              "#ed7953"
             ],
             [
              0.7777777777777778,
              "#fb9f3a"
             ],
             [
              0.8888888888888888,
              "#fdca26"
             ],
             [
              1,
              "#f0f921"
             ]
            ],
            "type": "histogram2d"
           }
          ],
          "histogram2dcontour": [
           {
            "colorbar": {
             "outlinewidth": 0,
             "ticks": ""
            },
            "colorscale": [
             [
              0,
              "#0d0887"
             ],
             [
              0.1111111111111111,
              "#46039f"
             ],
             [
              0.2222222222222222,
              "#7201a8"
             ],
             [
              0.3333333333333333,
              "#9c179e"
             ],
             [
              0.4444444444444444,
              "#bd3786"
             ],
             [
              0.5555555555555556,
              "#d8576b"
             ],
             [
              0.6666666666666666,
              "#ed7953"
             ],
             [
              0.7777777777777778,
              "#fb9f3a"
             ],
             [
              0.8888888888888888,
              "#fdca26"
             ],
             [
              1,
              "#f0f921"
             ]
            ],
            "type": "histogram2dcontour"
           }
          ],
          "mesh3d": [
           {
            "colorbar": {
             "outlinewidth": 0,
             "ticks": ""
            },
            "type": "mesh3d"
           }
          ],
          "parcoords": [
           {
            "line": {
             "colorbar": {
              "outlinewidth": 0,
              "ticks": ""
             }
            },
            "type": "parcoords"
           }
          ],
          "pie": [
           {
            "automargin": true,
            "type": "pie"
           }
          ],
          "scatter": [
           {
            "fillpattern": {
             "fillmode": "overlay",
             "size": 10,
             "solidity": 0.2
            },
            "type": "scatter"
           }
          ],
          "scatter3d": [
           {
            "line": {
             "colorbar": {
              "outlinewidth": 0,
              "ticks": ""
             }
            },
            "marker": {
             "colorbar": {
              "outlinewidth": 0,
              "ticks": ""
             }
            },
            "type": "scatter3d"
           }
          ],
          "scattercarpet": [
           {
            "marker": {
             "colorbar": {
              "outlinewidth": 0,
              "ticks": ""
             }
            },
            "type": "scattercarpet"
           }
          ],
          "scattergeo": [
           {
            "marker": {
             "colorbar": {
              "outlinewidth": 0,
              "ticks": ""
             }
            },
            "type": "scattergeo"
           }
          ],
          "scattergl": [
           {
            "marker": {
             "colorbar": {
              "outlinewidth": 0,
              "ticks": ""
             }
            },
            "type": "scattergl"
           }
          ],
          "scattermapbox": [
           {
            "marker": {
             "colorbar": {
              "outlinewidth": 0,
              "ticks": ""
             }
            },
            "type": "scattermapbox"
           }
          ],
          "scatterpolar": [
           {
            "marker": {
             "colorbar": {
              "outlinewidth": 0,
              "ticks": ""
             }
            },
            "type": "scatterpolar"
           }
          ],
          "scatterpolargl": [
           {
            "marker": {
             "colorbar": {
              "outlinewidth": 0,
              "ticks": ""
             }
            },
            "type": "scatterpolargl"
           }
          ],
          "scatterternary": [
           {
            "marker": {
             "colorbar": {
              "outlinewidth": 0,
              "ticks": ""
             }
            },
            "type": "scatterternary"
           }
          ],
          "surface": [
           {
            "colorbar": {
             "outlinewidth": 0,
             "ticks": ""
            },
            "colorscale": [
             [
              0,
              "#0d0887"
             ],
             [
              0.1111111111111111,
              "#46039f"
             ],
             [
              0.2222222222222222,
              "#7201a8"
             ],
             [
              0.3333333333333333,
              "#9c179e"
             ],
             [
              0.4444444444444444,
              "#bd3786"
             ],
             [
              0.5555555555555556,
              "#d8576b"
             ],
             [
              0.6666666666666666,
              "#ed7953"
             ],
             [
              0.7777777777777778,
              "#fb9f3a"
             ],
             [
              0.8888888888888888,
              "#fdca26"
             ],
             [
              1,
              "#f0f921"
             ]
            ],
            "type": "surface"
           }
          ],
          "table": [
           {
            "cells": {
             "fill": {
              "color": "#EBF0F8"
             },
             "line": {
              "color": "white"
             }
            },
            "header": {
             "fill": {
              "color": "#C8D4E3"
             },
             "line": {
              "color": "white"
             }
            },
            "type": "table"
           }
          ]
         },
         "layout": {
          "annotationdefaults": {
           "arrowcolor": "#2a3f5f",
           "arrowhead": 0,
           "arrowwidth": 1
          },
          "autotypenumbers": "strict",
          "coloraxis": {
           "colorbar": {
            "outlinewidth": 0,
            "ticks": ""
           }
          },
          "colorscale": {
           "diverging": [
            [
             0,
             "#8e0152"
            ],
            [
             0.1,
             "#c51b7d"
            ],
            [
             0.2,
             "#de77ae"
            ],
            [
             0.3,
             "#f1b6da"
            ],
            [
             0.4,
             "#fde0ef"
            ],
            [
             0.5,
             "#f7f7f7"
            ],
            [
             0.6,
             "#e6f5d0"
            ],
            [
             0.7,
             "#b8e186"
            ],
            [
             0.8,
             "#7fbc41"
            ],
            [
             0.9,
             "#4d9221"
            ],
            [
             1,
             "#276419"
            ]
           ],
           "sequential": [
            [
             0,
             "#0d0887"
            ],
            [
             0.1111111111111111,
             "#46039f"
            ],
            [
             0.2222222222222222,
             "#7201a8"
            ],
            [
             0.3333333333333333,
             "#9c179e"
            ],
            [
             0.4444444444444444,
             "#bd3786"
            ],
            [
             0.5555555555555556,
             "#d8576b"
            ],
            [
             0.6666666666666666,
             "#ed7953"
            ],
            [
             0.7777777777777778,
             "#fb9f3a"
            ],
            [
             0.8888888888888888,
             "#fdca26"
            ],
            [
             1,
             "#f0f921"
            ]
           ],
           "sequentialminus": [
            [
             0,
             "#0d0887"
            ],
            [
             0.1111111111111111,
             "#46039f"
            ],
            [
             0.2222222222222222,
             "#7201a8"
            ],
            [
             0.3333333333333333,
             "#9c179e"
            ],
            [
             0.4444444444444444,
             "#bd3786"
            ],
            [
             0.5555555555555556,
             "#d8576b"
            ],
            [
             0.6666666666666666,
             "#ed7953"
            ],
            [
             0.7777777777777778,
             "#fb9f3a"
            ],
            [
             0.8888888888888888,
             "#fdca26"
            ],
            [
             1,
             "#f0f921"
            ]
           ]
          },
          "colorway": [
           "#636efa",
           "#EF553B",
           "#00cc96",
           "#ab63fa",
           "#FFA15A",
           "#19d3f3",
           "#FF6692",
           "#B6E880",
           "#FF97FF",
           "#FECB52"
          ],
          "font": {
           "color": "#2a3f5f"
          },
          "geo": {
           "bgcolor": "white",
           "lakecolor": "white",
           "landcolor": "#E5ECF6",
           "showlakes": true,
           "showland": true,
           "subunitcolor": "white"
          },
          "hoverlabel": {
           "align": "left"
          },
          "hovermode": "closest",
          "mapbox": {
           "style": "light"
          },
          "paper_bgcolor": "white",
          "plot_bgcolor": "#E5ECF6",
          "polar": {
           "angularaxis": {
            "gridcolor": "white",
            "linecolor": "white",
            "ticks": ""
           },
           "bgcolor": "#E5ECF6",
           "radialaxis": {
            "gridcolor": "white",
            "linecolor": "white",
            "ticks": ""
           }
          },
          "scene": {
           "xaxis": {
            "backgroundcolor": "#E5ECF6",
            "gridcolor": "white",
            "gridwidth": 2,
            "linecolor": "white",
            "showbackground": true,
            "ticks": "",
            "zerolinecolor": "white"
           },
           "yaxis": {
            "backgroundcolor": "#E5ECF6",
            "gridcolor": "white",
            "gridwidth": 2,
            "linecolor": "white",
            "showbackground": true,
            "ticks": "",
            "zerolinecolor": "white"
           },
           "zaxis": {
            "backgroundcolor": "#E5ECF6",
            "gridcolor": "white",
            "gridwidth": 2,
            "linecolor": "white",
            "showbackground": true,
            "ticks": "",
            "zerolinecolor": "white"
           }
          },
          "shapedefaults": {
           "line": {
            "color": "#2a3f5f"
           }
          },
          "ternary": {
           "aaxis": {
            "gridcolor": "white",
            "linecolor": "white",
            "ticks": ""
           },
           "baxis": {
            "gridcolor": "white",
            "linecolor": "white",
            "ticks": ""
           },
           "bgcolor": "#E5ECF6",
           "caxis": {
            "gridcolor": "white",
            "linecolor": "white",
            "ticks": ""
           }
          },
          "title": {
           "x": 0.05
          },
          "xaxis": {
           "automargin": true,
           "gridcolor": "white",
           "linecolor": "white",
           "ticks": "",
           "title": {
            "standoff": 15
           },
           "zerolinecolor": "white",
           "zerolinewidth": 2
          },
          "yaxis": {
           "automargin": true,
           "gridcolor": "white",
           "linecolor": "white",
           "ticks": "",
           "title": {
            "standoff": 15
           },
           "zerolinecolor": "white",
           "zerolinewidth": 2
          }
         }
        },
        "width": 800
       }
      }
     },
     "metadata": {},
     "output_type": "display_data"
    }
   ],
   "source": [
    "from sklearn.cluster import KMeans\n",
    "import plotly.express as px\n",
    "from sklearn.preprocessing import MinMaxScaler\n",
    "\n",
    "kmeans = KMeans(n_clusters=3, init=\"k-means++\",\n",
    "        n_init=10,\n",
    "        tol=1e-04, random_state=42)\n",
    "scaler = MinMaxScaler()\n",
    "scaler.fit(X)\n",
    "X_scaled = scaler.transform(X)\n",
    "kmeans.fit(X_scaled)\n",
    "clusters=pd.DataFrame(X_scaled, columns=X.columns)\n",
    "clusters['label']=kmeans.labels_\n",
    "polar=clusters.groupby(\"label\").mean().reset_index()\n",
    "polar=pd.melt(polar,id_vars=[\"label\"]).dropna()\n",
    "px.line_polar(polar,r=\"value\",theta=\"variable\",color=\"label\",line_close=True,height=600,width=800)\n"
   ]
  },
  {
   "cell_type": "code",
   "execution_count": 41,
   "id": "ace056d3",
   "metadata": {},
   "outputs": [
    {
     "data": {
      "image/png": "[encoded data removed]",
      "text/plain": [
       "<Figure size 432x288 with 1 Axes>"
      ]
     },
     "metadata": {
      "image/png": {
       "height": 277,
       "width": 402
      },
      "needs_background": "light"
     },
     "output_type": "display_data"
    }
   ],
   "source": [
    "# load the dataset\n",
    "lung_cancer_data = pd.read_csv(\"cancer patient data sets.csv\", index_col='index')\n",
    "\n",
    "# select only the symptom variables\n",
    "symptoms = lung_cancer_data.loc[:, [\"Chest Pain\", \"Coughing of Blood\", \"Fatigue\", \"Weight Loss\", \n",
    "                 \"Shortness of Breath\", \"Wheezing\", \"Swallowing Difficulty\", \n",
    "                 \"Clubbing of Finger Nails\", \"Frequent Cold\", \"Dry Cough\", \"Snoring\"]]\n",
    "\n",
    "# standardize the symptom data\n",
    "symptoms_scaled = StandardScaler().fit_transform(symptoms)\n",
    "\n",
    "# apply DBSCAN clustering\n",
    "dbscan = DBSCAN(eps=1.5, min_samples=5)\n",
    "clusters = dbscan.fit_predict(symptoms_scaled)\n",
    "\n",
    "# print the cluster labels\n",
    "lung_cancer_data[\"Lifestyle Cluster\"] = dbscan.fit_predict(symptoms_scaled)\n",
    "\n",
    "plt.scatter(lung_cancer_data[\"Chest Pain\"], lung_cancer_data[\"Shortness of Breath\"], c=lung_cancer_data[\"Lifestyle Cluster\"], s=50)\n",
    "plt.xlabel(\"Chest Pain\")\n",
    "plt.ylabel(\"Shortness of Breath\")\n",
    "plt.title(\"DBSCAN Clustering of Lung Cancer Patients based on Symptoms\")\n",
    "plt.show()\n"
   ]
  },
  {
   "cell_type": "code",
   "execution_count": 42,
   "id": "c4d2f59e",
   "metadata": {},
   "outputs": [
    {
     "data": {
      "image/png": "[encoded data removed]",
      "text/plain": [
       "<Figure size 432x288 with 1 Axes>"
      ]
     },
     "metadata": {
      "image/png": {
       "height": 277,
       "width": 511
      },
      "needs_background": "light"
     },
     "output_type": "display_data"
    }
   ],
   "source": [
    "# load the dataset\n",
    "lung_cancer_data = pd.read_csv(\"cancer patient data sets.csv\", index_col='index')\n",
    "\n",
    "# select the lifestyle and medical history variables\n",
    "lifestyle = lung_cancer_data.loc[:, [\"Air Pollution\", \"Alcohol use\", \"Dust Allergy\", \"OccuPational Hazards\", \n",
    "                  \"Genetic Risk\", \"chronic Lung Disease\", \"Balanced Diet\", \"Obesity\", \n",
    "                  \"Smoking\", \"Passive Smoker\", \"Age\"]]\n",
    "\n",
    "# encode the categorical variables as numerical\n",
    "encoder = LabelEncoder()\n",
    "lifestyle_encoded = lifestyle.apply(encoder.fit_transform)\n",
    "\n",
    "# standardize the lifestyle data\n",
    "lifestyle_scaled = StandardScaler().fit_transform(lifestyle_encoded)\n",
    "\n",
    "# apply DBSCAN clustering\n",
    "dbscan = DBSCAN(eps=1.5, min_samples=5)\n",
    "clusters = dbscan.fit_predict(lifestyle_scaled)\n",
    "\n",
    "# print the cluster labels\n",
    "lung_cancer_data[\"Lifestyle Cluster\"] = dbscan.fit_predict(lifestyle_scaled)\n",
    "\n",
    "plt.scatter(lung_cancer_data[\"Alcohol use\"], lung_cancer_data[\"Smoking\"], c=lung_cancer_data[\"Lifestyle Cluster\"], s=50)\n",
    "plt.xlabel(\"Alcohol use\")\n",
    "plt.ylabel(\"Smoking\")\n",
    "plt.title(\"DBSCAN Clustering of Lung Cancer Patients based on Lifestyle and Medical History\")\n",
    "plt.show()\n"
   ]
  },
  {
   "attachments": {},
   "cell_type": "markdown",
   "id": "89e36d3c",
   "metadata": {},
   "source": [
    "# **Association Rule Mining Problem**"
   ]
  },
  {
   "cell_type": "code",
   "execution_count": 43,
   "id": "79f4cdc0",
   "metadata": {},
   "outputs": [
    {
     "name": "stdout",
     "output_type": "stream",
     "text": [
      "                                              antecedents  \\\n",
      "311993  (Genetic Risk_7, chronic Lung Disease_6, Dust ...   \n",
      "308692  (Wheezing_7, chronic Lung Disease_6, Dust Alle...   \n",
      "213263  (Genetic Risk_7, chronic Lung Disease_6, Balan...   \n",
      "93732   (chronic Lung Disease_6, Smoking_7, Obesity_7,...   \n",
      "308746  (chronic Lung Disease_6, Smoking_7, Dust Aller...   \n",
      "213262  (Genetic Risk_7, chronic Lung Disease_6, Chest...   \n",
      "308741       (Balanced Diet_7, Smoking_7, Genetic Risk_7)   \n",
      "308732  (chronic Lung Disease_6, Smoking_7, Genetic Ri...   \n",
      "213260  (Genetic Risk_7, chronic Lung Disease_6, Chest...   \n",
      "308717         (chronic Lung Disease_6, Smoking_7, Level)   \n",
      "\n",
      "                                              consequents  antecedent support  \\\n",
      "311993                  (Wheezing_7, Chest Pain_7, Level)            0.108946   \n",
      "308692  (Level, Genetic Risk_7, Chest Pain_7, Balanced...            0.108946   \n",
      "213263                         (Wheezing_7, Chest Pain_7)            0.108946   \n",
      "93732                   (Wheezing_7, Coughing of Blood_7)            0.108946   \n",
      "308746  (Wheezing_7, Level, Genetic Risk_7, Chest Pain...            0.108946   \n",
      "213262                      (Wheezing_7, Balanced Diet_7)            0.108946   \n",
      "308741  (Wheezing_7, Level, chronic Lung Disease_6, Du...            0.108946   \n",
      "308732  (Wheezing_7, Level, Dust Allergy_7, Chest Pain...            0.108946   \n",
      "213260                  (Wheezing_7, Coughing of Blood_7)            0.108946   \n",
      "308717  (Wheezing_7, Genetic Risk_7, Dust Allergy_7, C...            0.108946   \n",
      "\n",
      "        consequent support   support  confidence      lift  leverage  \\\n",
      "311993            0.108946  0.108946         1.0  9.178899  0.097076   \n",
      "308692            0.108946  0.108946         1.0  9.178899  0.097076   \n",
      "213263            0.108946  0.108946         1.0  9.178899  0.097076   \n",
      "93732             0.108946  0.108946         1.0  9.178899  0.097076   \n",
      "308746            0.108946  0.108946         1.0  9.178899  0.097076   \n",
      "213262            0.108946  0.108946         1.0  9.178899  0.097076   \n",
      "308741            0.108946  0.108946         1.0  9.178899  0.097076   \n",
      "308732            0.108946  0.108946         1.0  9.178899  0.097076   \n",
      "213260            0.108946  0.108946         1.0  9.178899  0.097076   \n",
      "308717            0.108946  0.108946         1.0  9.178899  0.097076   \n",
      "\n",
      "        conviction  zhangs_metric  \n",
      "311993         inf            1.0  \n",
      "308692         inf            1.0  \n",
      "213263         inf            1.0  \n",
      "93732          inf            1.0  \n",
      "308746         inf            1.0  \n",
      "213262         inf            1.0  \n",
      "308741         inf            1.0  \n",
      "308732         inf            1.0  \n",
      "213260         inf            1.0  \n",
      "308717         inf            1.0  \n"
     ]
    }
   ],
   "source": [
    "# Load the lung cancer dataset\n",
    "df = pd.read_csv(\"cancer patient data sets.csv\", index_col='index')\n",
    "df.drop(\"Patient Id\", axis=1, inplace=True)\n",
    "df.drop(\"Age\", axis=1, inplace=True)\n",
    "df[\"Level\"].replace({'High': 2, 'Medium': 1, 'Low': 0}, inplace=True)\n",
    "# df = df.apply(lambda x: (x > 4).astype(int), axis=1)\n",
    "\n",
    "# Convert categorical variables to binary dummy variables\n",
    "df = pd.get_dummies(df, columns=['Gender', 'Air Pollution', 'Alcohol use', 'Dust Allergy',\n",
    "                                 'OccuPational Hazards', 'Genetic Risk', 'chronic Lung Disease',\n",
    "                                 'Balanced Diet', 'Obesity', 'Smoking', 'Passive Smoker',\n",
    "                                 'Chest Pain', 'Coughing of Blood', 'Fatigue', 'Weight Loss',\n",
    "                                 'Shortness of Breath', 'Wheezing', 'Swallowing Difficulty',\n",
    "                                 'Clubbing of Finger Nails', 'Frequent Cold', 'Dry Cough', 'Snoring'])\n",
    "\n",
    "df_bool = df.astype(bool)\n",
    "\n",
    "# Find frequent itemsets using the apriori algorithm\n",
    "frequent_itemsets = apriori(df_bool, min_support=0.1, use_colnames=True)\n",
    "\n",
    "# Generate association rules from the frequent itemsets\n",
    "rules = association_rules(frequent_itemsets, metric=\"lift\", min_threshold=1)\n",
    "\n",
    "# Print the top 10 rules by lift\n",
    "print(rules.sort_values(by='lift', ascending=False).head(10))\n"
   ]
  },
  {
   "attachments": {},
   "cell_type": "markdown",
   "id": "49279624",
   "metadata": {},
   "source": [
    "# Đầu ra của thuật toán khai thác quy tắc kết hợp này gồm: \n",
    "\n",
    "Trong kết quả này, thuật toán đã xác định một số nhóm mục thường xuất hiện cùng nhau trong tập dữ liệu của bạn. Cột tiền đề (antecedents column) liệt kê các mục được tìm thấy cùng nhau và cột hệ quả liệt kê các mục có xu hướng theo sau chúng.\n",
    "\n",
    "Cột hỗ trợ (support column) đưa ra tần suất mà các mục tiền đề và hậu quả xảy ra cùng nhau trong tập dữ liệu. Cột độ tin cậy cho biết xác suất có điều kiện của việc tìm thấy các mục kết quả trong các giao dịch có chứa các mục trước đó.\n",
    "\n",
    "Cột nâng (lift column) cho biết mức độ mà sự hiện diện của các mục trước ảnh hưởng đến sự hiện diện của các mục tiếp theo, liên quan đến tần suất riêng lẻ của chúng. Giá trị mức tăng lớn hơn 1 cho biết rằng sự hiện diện của các mục tiền đề làm tăng khả năng tìm thấy các mục tiếp theo, trong khi giá trị nhỏ hơn 1 cho biết điều ngược lại.\n",
    "\n",
    "Cột đòn bẩy (leverage column) cho biết sự khác biệt giữa tần suất quan sát được của các mục tiền đề và hậu quả xảy ra cùng nhau và tần suất dự kiến ​​nếu chúng độc lập với nhau.\n",
    "\n",
    "Cột xác tín (conviction column) là một thước đo khác về mức độ phụ thuộc giữa các mục tiền đề và hậu quả. Nó dựa trên khái niệm về tỷ lệ chênh lệch và đo lường mức độ mà các mục hệ quả phụ thuộc vào sự vắng mặt của các mục trước đó.\n",
    "\n",
    "Cuối cùng, cột số liệu của Zhang là một thước đo khác về mối liên hệ giữa các mục tiền đề và hệ quả, dựa trên khái niệm entropy thông tin. Nó đo lường mức độ thu được thông tin trong việc dự đoán các mục hệ quả, với sự hiện diện của các mục trước đó"
   ]
  }
 ],
 "metadata": {
  "kernelspec": {
   "display_name": "Python 3",
   "language": "python",
   "name": "python3"
  },
  "language_info": {
   "codemirror_mode": {
    "name": "ipython",
    "version": 3
   },
   "file_extension": ".py",
   "mimetype": "text/x-python",
   "name": "python",
   "nbconvert_exporter": "python",
   "pygments_lexer": "ipython3",
   "version": "3.9.13"
  },
  "papermill": {
   "default_parameters": {},
   "duration": 26.878,
   "end_time": "2023-01-09T16:20:42.719971",
   "environment_variables": {},
   "exception": null,
   "input_path": "__notebook__.ipynb",
   "output_path": "__notebook__.ipynb",
   "parameters": {},
   "start_time": "2023-01-09T16:20:15.841971",
   "version": "2.3.4"
  }
 },
 "nbformat": 4,
 "nbformat_minor": 5
}
